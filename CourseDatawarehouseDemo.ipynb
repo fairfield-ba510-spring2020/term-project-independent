{
 "cells": [
  {
   "cell_type": "code",
   "execution_count": 1,
   "metadata": {},
   "outputs": [],
   "source": [
    "%load_ext sql\n",
    "import sqlite3"
   ]
  },
  {
   "cell_type": "code",
   "execution_count": 2,
   "metadata": {},
   "outputs": [
    {
     "data": {
      "text/plain": [
       "'Connected: @CourseDataWarehouse.db'"
      ]
     },
     "execution_count": 2,
     "metadata": {},
     "output_type": "execute_result"
    }
   ],
   "source": [
    "%sql sqlite:///CourseDataWarehouse.db"
   ]
  },
  {
   "cell_type": "markdown",
   "metadata": {},
   "source": [
    "# Questions"
   ]
  },
  {
   "cell_type": "markdown",
   "metadata": {},
   "source": [
    "# What Courses Require a Prereq?"
   ]
  },
  {
   "cell_type": "code",
   "execution_count": 23,
   "metadata": {},
   "outputs": [
    {
     "name": "stdout",
     "output_type": "stream",
     "text": [
      " * sqlite:///CourseDataWarehouse.db\n",
      "Done.\n"
     ]
    },
    {
     "data": {
      "text/html": [
       "<table>\n",
       "    <tr>\n",
       "        <th>CourseTitle</th>\n",
       "        <th>Prereqs</th>\n",
       "    </tr>\n",
       "    <tr>\n",
       "        <td>Introduction to Management Accounting</td>\n",
       "        <td>AC 0011.</td>\n",
       "    </tr>\n",
       "    <tr>\n",
       "        <td>Intermediate Accounting I</td>\n",
       "        <td>AC 0011.</td>\n",
       "    </tr>\n",
       "    <tr>\n",
       "        <td>Intermediate Accounting II</td>\n",
       "        <td>AC 0203.</td>\n",
       "    </tr>\n",
       "    <tr>\n",
       "        <td>Accounting Information Systems</td>\n",
       "        <td>AC 0012.</td>\n",
       "    </tr>\n",
       "    <tr>\n",
       "        <td>Advanced Accounting</td>\n",
       "        <td>AC 0204; junior or senior standing.</td>\n",
       "    </tr>\n",
       "    <tr>\n",
       "        <td>Cost Management</td>\n",
       "        <td>AC 0012, AC 0203, junior or senior standing.</td>\n",
       "    </tr>\n",
       "    <tr>\n",
       "        <td>Auditing</td>\n",
       "        <td>AC 0204; junior or senior standing.</td>\n",
       "    </tr>\n",
       "    <tr>\n",
       "        <td>Federal Income Taxation I</td>\n",
       "        <td>AC 0204; junior or senior standing.</td>\n",
       "    </tr>\n",
       "    <tr>\n",
       "        <td>Accounting Information for Decision-Making</td>\n",
       "        <td>AC 0400.</td>\n",
       "    </tr>\n",
       "    <tr>\n",
       "        <td>Roots of American Culture</td>\n",
       "        <td>One American Studies Gateway course.</td>\n",
       "    </tr>\n",
       "</table>"
      ],
      "text/plain": [
       "[('Introduction to Management Accounting', 'AC 0011.'),\n",
       " ('Intermediate Accounting I', 'AC 0011.'),\n",
       " ('Intermediate Accounting II', 'AC 0203.'),\n",
       " ('Accounting Information Systems', 'AC 0012.'),\n",
       " ('Advanced Accounting', 'AC 0204; junior or senior standing.'),\n",
       " ('Cost Management', 'AC 0012, AC 0203, junior or senior standing.'),\n",
       " ('Auditing', 'AC 0204; junior or senior standing.'),\n",
       " ('Federal Income Taxation I', 'AC 0204; junior or senior standing.'),\n",
       " ('Accounting Information for Decision-Making', 'AC 0400.'),\n",
       " ('Roots of American Culture', 'One American Studies Gateway course.')]"
      ]
     },
     "execution_count": 23,
     "metadata": {},
     "output_type": "execute_result"
    }
   ],
   "source": [
    "%%sql\n",
    "SELECT DISTINCT COURSE_MEETING_FACTS.COURSETITLE, PREREQS\n",
    "FROM Course_Meeting_Facts\n",
    "    LEFT JOIN INSTRUCTORS_DIM ON PRIMARYINSTRUCTORID = INSTRUCTORID\n",
    "    LEFT JOIN CATALOG_COURSES_DIM USING (COURSEID)\n",
    "WHERE PREREQS >=1\n",
    "LIMIT 10;"
   ]
  },
  {
   "cell_type": "markdown",
   "metadata": {},
   "source": [
    "# What Courses Does Dr. Scheraga Teach?"
   ]
  },
  {
   "cell_type": "code",
   "execution_count": 6,
   "metadata": {},
   "outputs": [
    {
     "name": "stdout",
     "output_type": "stream",
     "text": [
      " * sqlite:///CourseDataWarehouse.db\n",
      "Done.\n"
     ]
    },
    {
     "data": {
      "text/html": [
       "<table>\n",
       "    <tr>\n",
       "        <th>CourseTitle</th>\n",
       "        <th>Name</th>\n",
       "    </tr>\n",
       "    <tr>\n",
       "        <td>Argument and Advocacy</td>\n",
       "        <td>Carl A.  Scheraga</td>\n",
       "    </tr>\n",
       "    <tr>\n",
       "        <td>Communication Philosophies, Theories, and Research Traditions</td>\n",
       "        <td>Carl A.  Scheraga</td>\n",
       "    </tr>\n",
       "    <tr>\n",
       "        <td>Family Communication</td>\n",
       "        <td>Carl A.  Scheraga</td>\n",
       "    </tr>\n",
       "    <tr>\n",
       "        <td>Human Communication Theories</td>\n",
       "        <td>Carl A.  Scheraga</td>\n",
       "    </tr>\n",
       "    <tr>\n",
       "        <td>Identities, Discourse, and Social Change</td>\n",
       "        <td>Carl A.  Scheraga</td>\n",
       "    </tr>\n",
       "    <tr>\n",
       "        <td>Interpersonal Communication</td>\n",
       "        <td>Carl A.  Scheraga</td>\n",
       "    </tr>\n",
       "    <tr>\n",
       "        <td>Interpersonal Communication Theories</td>\n",
       "        <td>Carl A.  Scheraga</td>\n",
       "    </tr>\n",
       "    <tr>\n",
       "        <td>Interracial Communication</td>\n",
       "        <td>Carl A.  Scheraga</td>\n",
       "    </tr>\n",
       "    <tr>\n",
       "        <td>Mass Media and Society</td>\n",
       "        <td>Carl A.  Scheraga</td>\n",
       "    </tr>\n",
       "    <tr>\n",
       "        <td>Race, Identity, and Representation</td>\n",
       "        <td>Carl A.  Scheraga</td>\n",
       "    </tr>\n",
       "    <tr>\n",
       "        <td>Research Projects in Communication: Capstone</td>\n",
       "        <td>Carl A.  Scheraga</td>\n",
       "    </tr>\n",
       "</table>"
      ],
      "text/plain": [
       "[('Argument and Advocacy', 'Carl A.  Scheraga'),\n",
       " ('Communication Philosophies, Theories, and Research Traditions', 'Carl A.  Scheraga'),\n",
       " ('Family Communication', 'Carl A.  Scheraga'),\n",
       " ('Human Communication Theories', 'Carl A.  Scheraga'),\n",
       " ('Identities, Discourse, and Social Change', 'Carl A.  Scheraga'),\n",
       " ('Interpersonal Communication', 'Carl A.  Scheraga'),\n",
       " ('Interpersonal Communication Theories', 'Carl A.  Scheraga'),\n",
       " ('Interracial Communication', 'Carl A.  Scheraga'),\n",
       " ('Mass Media and Society', 'Carl A.  Scheraga'),\n",
       " ('Race, Identity, and Representation', 'Carl A.  Scheraga'),\n",
       " ('Research Projects in Communication: Capstone', 'Carl A.  Scheraga')]"
      ]
     },
     "execution_count": 6,
     "metadata": {},
     "output_type": "execute_result"
    }
   ],
   "source": [
    "%%sql\n",
    "SELECT COURSE_MEETING_FACTS.COURSETITLE, NAME\n",
    "FROM Course_Meeting_Facts\n",
    "    LEFT JOIN INSTRUCTORS_DIM ON PRIMARYINSTRUCTORID = INSTRUCTORID\n",
    "    LEFT JOIN CATALOG_COURSES_DIM USING (COURSEID)\n",
    "WHERE NAME like \"%Scheraga\"\n",
    "GROUP BY COURSE_MEETING_FACTS.COURSETITLE, NAME"
   ]
  },
  {
   "cell_type": "markdown",
   "metadata": {},
   "source": [
    "# What Were the Course Offerings in Fall 2014?"
   ]
  },
  {
   "cell_type": "code",
   "execution_count": 18,
   "metadata": {},
   "outputs": [
    {
     "name": "stdout",
     "output_type": "stream",
     "text": [
      " * sqlite:///CourseDataWarehouse.db\n",
      "Done.\n"
     ]
    },
    {
     "data": {
      "text/html": [
       "<table>\n",
       "    <tr>\n",
       "        <th>Term</th>\n",
       "        <th>CourseTitle</th>\n",
       "        <th>CatalogID</th>\n",
       "        <th>Name</th>\n",
       "    </tr>\n",
       "    <tr>\n",
       "        <td>Fall2014</td>\n",
       "        <td>Introduction to Financial Accounting</td>\n",
       "        <td>AC 0011</td>\n",
       "        <td>Aaron K.  Perkus</td>\n",
       "    </tr>\n",
       "    <tr>\n",
       "        <td>Fall2014</td>\n",
       "        <td>Introduction to Financial Accounting</td>\n",
       "        <td>AC 0011</td>\n",
       "        <td>Aaron Quinn  Weinstein</td>\n",
       "    </tr>\n",
       "    <tr>\n",
       "        <td>Fall2014</td>\n",
       "        <td>Introduction to Financial Accounting</td>\n",
       "        <td>AC 0011</td>\n",
       "        <td>Aaron R.  Van Dyke</td>\n",
       "    </tr>\n",
       "    <tr>\n",
       "        <td>Fall2014</td>\n",
       "        <td>Introduction to Financial Accounting</td>\n",
       "        <td>AC 0011</td>\n",
       "        <td>Abdel Illah A.  Douda</td>\n",
       "    </tr>\n",
       "    <tr>\n",
       "        <td>Fall2014</td>\n",
       "        <td>Introduction to Financial Accounting</td>\n",
       "        <td>AC 0011</td>\n",
       "        <td>Adam E.  Rugg</td>\n",
       "    </tr>\n",
       "    <tr>\n",
       "        <td>Fall2014</td>\n",
       "        <td>Introduction to Financial Accounting</td>\n",
       "        <td>AC 0011</td>\n",
       "        <td>Adrian H.  van der Kroef</td>\n",
       "    </tr>\n",
       "    <tr>\n",
       "        <td>Fall2014</td>\n",
       "        <td>Introduction to Financial Accounting</td>\n",
       "        <td>AC 0011</td>\n",
       "        <td>Adrian S.  Rusu-Sprincenatu</td>\n",
       "    </tr>\n",
       "    <tr>\n",
       "        <td>Fall2014</td>\n",
       "        <td>Introduction to Management Accounting</td>\n",
       "        <td>AC 0012</td>\n",
       "        <td>Ahmed M.  Ebrahim</td>\n",
       "    </tr>\n",
       "    <tr>\n",
       "        <td>Fall2014</td>\n",
       "        <td>Intermediate Accounting I</td>\n",
       "        <td>AC 0203</td>\n",
       "        <td>Alan   Anderson</td>\n",
       "    </tr>\n",
       "    <tr>\n",
       "        <td>Fall2014</td>\n",
       "        <td>Intermediate Accounting II</td>\n",
       "        <td>AC 0204</td>\n",
       "        <td>Alan C.  Murchie</td>\n",
       "    </tr>\n",
       "</table>"
      ],
      "text/plain": [
       "[('Fall2014', 'Introduction to Financial Accounting', 'AC 0011', 'Aaron K.  Perkus'),\n",
       " ('Fall2014', 'Introduction to Financial Accounting', 'AC 0011', 'Aaron Quinn  Weinstein'),\n",
       " ('Fall2014', 'Introduction to Financial Accounting', 'AC 0011', 'Aaron R.  Van Dyke'),\n",
       " ('Fall2014', 'Introduction to Financial Accounting', 'AC 0011', 'Abdel Illah A.  Douda'),\n",
       " ('Fall2014', 'Introduction to Financial Accounting', 'AC 0011', 'Adam E.  Rugg'),\n",
       " ('Fall2014', 'Introduction to Financial Accounting', 'AC 0011', 'Adrian H.  van der Kroef'),\n",
       " ('Fall2014', 'Introduction to Financial Accounting', 'AC 0011', 'Adrian S.  Rusu-Sprincenatu'),\n",
       " ('Fall2014', 'Introduction to Management Accounting', 'AC 0012', 'Ahmed M.  Ebrahim'),\n",
       " ('Fall2014', 'Intermediate Accounting I', 'AC 0203', 'Alan   Anderson'),\n",
       " ('Fall2014', 'Intermediate Accounting II', 'AC 0204', 'Alan C.  Murchie')]"
      ]
     },
     "execution_count": 18,
     "metadata": {},
     "output_type": "execute_result"
    }
   ],
   "source": [
    "%%sql\n",
    "SELECT DISTINCT TERM, COURSE_MEETING_FACTS.COURSETITLE, COURSE_MEETING_FACTS.CATALOGID, NAME\n",
    "FROM Course_Meeting_Facts\n",
    "    LEFT JOIN INSTRUCTORS_DIM ON PRIMARYINSTRUCTORID = INSTRUCTORID\n",
    "    LEFT JOIN CATALOG_COURSES_DIM USING (COURSEID)\n",
    "WHERE TERM = 'Fall2014'\n",
    "LIMIT 10;"
   ]
  },
  {
   "cell_type": "markdown",
   "metadata": {},
   "source": [
    "# How Many Courses Were Offered Over the 2017 Winter Interession?"
   ]
  },
  {
   "cell_type": "code",
   "execution_count": 17,
   "metadata": {},
   "outputs": [
    {
     "name": "stdout",
     "output_type": "stream",
     "text": [
      " * sqlite:///CourseDataWarehouse.db\n",
      "Done.\n"
     ]
    },
    {
     "data": {
      "text/html": [
       "<table>\n",
       "    <tr>\n",
       "        <th>Term</th>\n",
       "        <th>COUNT(COURSE_MEETING_FACTS.COURSETITLE)</th>\n",
       "    </tr>\n",
       "    <tr>\n",
       "        <td>Winter2017</td>\n",
       "        <td>91</td>\n",
       "    </tr>\n",
       "</table>"
      ],
      "text/plain": [
       "[('Winter2017', 91)]"
      ]
     },
     "execution_count": 17,
     "metadata": {},
     "output_type": "execute_result"
    }
   ],
   "source": [
    "%%sql\n",
    "SELECT DISTINCT TERM, COUNT(COURSE_MEETING_FACTS.COURSETITLE)\n",
    "FROM Course_Meeting_Facts\n",
    "    LEFT JOIN INSTRUCTORS_DIM ON PRIMARYINSTRUCTORID = INSTRUCTORID\n",
    "    LEFT JOIN CATALOG_COURSES_DIM USING (COURSEID)\n",
    "WHERE TERM = 'Winter2017'\n",
    ";"
   ]
  },
  {
   "cell_type": "markdown",
   "metadata": {},
   "source": [
    "# What Courses Are 4 Credits?"
   ]
  },
  {
   "cell_type": "code",
   "execution_count": 34,
   "metadata": {},
   "outputs": [
    {
     "name": "stdout",
     "output_type": "stream",
     "text": [
      " * sqlite:///CourseDataWarehouse.db\n",
      "Done.\n"
     ]
    },
    {
     "data": {
      "text/html": [
       "<table>\n",
       "    <tr>\n",
       "        <th>CourseTitle</th>\n",
       "        <th>Credits</th>\n",
       "        <th>CatalogID</th>\n",
       "    </tr>\n",
       "    <tr>\n",
       "        <td>Adult Health II</td>\n",
       "        <td>4.0</td>\n",
       "        <td>NS 0643</td>\n",
       "    </tr>\n",
       "    <tr>\n",
       "        <td>Advanced Health Assessment</td>\n",
       "        <td>4.0</td>\n",
       "        <td>NS 0604</td>\n",
       "    </tr>\n",
       "    <tr>\n",
       "        <td>Advanced Nursing Roles for Systems Leadership and Improvement</td>\n",
       "        <td>4.0</td>\n",
       "        <td>NS 0521</td>\n",
       "    </tr>\n",
       "    <tr>\n",
       "        <td>Advanced Pathophysiology for Anesthesia Practice</td>\n",
       "        <td>4.0</td>\n",
       "        <td>NS 0669</td>\n",
       "    </tr>\n",
       "    <tr>\n",
       "        <td>Basic Latin</td>\n",
       "        <td>4.0</td>\n",
       "        <td>LA 0111</td>\n",
       "    </tr>\n",
       "    <tr>\n",
       "        <td>Biomedical Instrumentation</td>\n",
       "        <td>4.0</td>\n",
       "        <td>BEN 0300</td>\n",
       "    </tr>\n",
       "    <tr>\n",
       "        <td>Calculus I</td>\n",
       "        <td>4.0</td>\n",
       "        <td>MA 0171</td>\n",
       "    </tr>\n",
       "    <tr>\n",
       "        <td>Calculus I for Chemistry, Engineering, and Physics Majors</td>\n",
       "        <td>4.0</td>\n",
       "        <td>MA 0145</td>\n",
       "    </tr>\n",
       "    <tr>\n",
       "        <td>Calculus II</td>\n",
       "        <td>4.0</td>\n",
       "        <td>MA 0172</td>\n",
       "    </tr>\n",
       "    <tr>\n",
       "        <td>Calculus II for Chemistry, Engineering, and Physics Majors</td>\n",
       "        <td>4.0</td>\n",
       "        <td>MA 0146</td>\n",
       "    </tr>\n",
       "</table>"
      ],
      "text/plain": [
       "[('Adult Health II', 4.0, 'NS 0643'),\n",
       " ('Advanced Health Assessment', 4.0, 'NS 0604'),\n",
       " ('Advanced Nursing Roles for Systems Leadership and Improvement', 4.0, 'NS 0521'),\n",
       " ('Advanced Pathophysiology for Anesthesia Practice', 4.0, 'NS 0669'),\n",
       " ('Basic Latin', 4.0, 'LA 0111'),\n",
       " ('Biomedical Instrumentation', 4.0, 'BEN 0300'),\n",
       " ('Calculus I', 4.0, 'MA 0171'),\n",
       " ('Calculus I for Chemistry, Engineering, and Physics Majors', 4.0, 'MA 0145'),\n",
       " ('Calculus II', 4.0, 'MA 0172'),\n",
       " ('Calculus II for Chemistry, Engineering, and Physics Majors', 4.0, 'MA 0146')]"
      ]
     },
     "execution_count": 34,
     "metadata": {},
     "output_type": "execute_result"
    }
   ],
   "source": [
    "%%sql\n",
    "SELECT COURSE_MEETING_FACTS.COURSETITLE, COURSE_MEETING_FACTS.CREDITS, COURSE_MEETING_FACTS.CATALOGID\n",
    "FROM Course_Meeting_Facts\n",
    "    LEFT JOIN INSTRUCTORS_DIM ON PRIMARYINSTRUCTORID = INSTRUCTORID\n",
    "    LEFT JOIN CATALOG_COURSES_DIM USING (COURSEID)\n",
    "GROUP BY COURSE_MEETING_FACTS.COURSETITLE\n",
    "HAVING COURSE_MEETING_FACTS.CREDITS = 4\n",
    "LIMIT 10\n",
    ";"
   ]
  },
  {
   "cell_type": "markdown",
   "metadata": {},
   "source": [
    "# What Professors Teach More Than One Course?"
   ]
  },
  {
   "cell_type": "code",
   "execution_count": 45,
   "metadata": {},
   "outputs": [
    {
     "name": "stdout",
     "output_type": "stream",
     "text": [
      " * sqlite:///CourseDataWarehouse.db\n",
      "Done.\n"
     ]
    },
    {
     "data": {
      "text/html": [
       "<table>\n",
       "    <tr>\n",
       "        <th>SECTIONCOUNT</th>\n",
       "        <th>CourseTitle</th>\n",
       "        <th>CatalogID</th>\n",
       "        <th>Name</th>\n",
       "        <th>Term</th>\n",
       "    </tr>\n",
       "    <tr>\n",
       "        <td>66</td>\n",
       "        <td>Introduction to Management Accounting</td>\n",
       "        <td>AC 0012</td>\n",
       "        <td>Aaron K.  Perkus</td>\n",
       "        <td>Spring2015</td>\n",
       "    </tr>\n",
       "    <tr>\n",
       "        <td>81</td>\n",
       "        <td>Introduction to Management Accounting</td>\n",
       "        <td>AC 0012</td>\n",
       "        <td>Aaron Quinn  Weinstein</td>\n",
       "        <td>Spring2015</td>\n",
       "    </tr>\n",
       "    <tr>\n",
       "        <td>81</td>\n",
       "        <td>Introduction to Management Accounting</td>\n",
       "        <td>AC 0012</td>\n",
       "        <td>Aaron R.  Van Dyke</td>\n",
       "        <td>Spring2015</td>\n",
       "    </tr>\n",
       "    <tr>\n",
       "        <td>78</td>\n",
       "        <td>Introduction to Management Accounting</td>\n",
       "        <td>AC 0012</td>\n",
       "        <td>Abdel Illah A.  Douda</td>\n",
       "        <td>Spring2015</td>\n",
       "    </tr>\n",
       "    <tr>\n",
       "        <td>54</td>\n",
       "        <td>Introduction to Management Accounting</td>\n",
       "        <td>AC 0012</td>\n",
       "        <td>Adam E.  Rugg</td>\n",
       "        <td>Spring2015</td>\n",
       "    </tr>\n",
       "    <tr>\n",
       "        <td>13</td>\n",
       "        <td>Accounting Information Systems</td>\n",
       "        <td>AC 0265</td>\n",
       "        <td>Adrian H.  van der Kroef</td>\n",
       "        <td>Spring2015</td>\n",
       "    </tr>\n",
       "    <tr>\n",
       "        <td>54</td>\n",
       "        <td>Introduction to Management Accounting</td>\n",
       "        <td>AC 0012</td>\n",
       "        <td>Adrian S.  Rusu-Sprincenatu</td>\n",
       "        <td>Spring2015</td>\n",
       "    </tr>\n",
       "    <tr>\n",
       "        <td>66</td>\n",
       "        <td>Cost Management</td>\n",
       "        <td>AC 0320</td>\n",
       "        <td>Ahmed M.  Ebrahim</td>\n",
       "        <td>Spring2015</td>\n",
       "    </tr>\n",
       "    <tr>\n",
       "        <td>78</td>\n",
       "        <td>Intermediate Accounting II</td>\n",
       "        <td>AC 0204</td>\n",
       "        <td>Alan   Anderson</td>\n",
       "        <td>Spring2015</td>\n",
       "    </tr>\n",
       "    <tr>\n",
       "        <td>26</td>\n",
       "        <td>Intermediate Accounting I</td>\n",
       "        <td>AC 0203</td>\n",
       "        <td>Alan C.  Murchie</td>\n",
       "        <td>Spring2015</td>\n",
       "    </tr>\n",
       "</table>"
      ],
      "text/plain": [
       "[(66, 'Introduction to Management Accounting', 'AC 0012', 'Aaron K.  Perkus', 'Spring2015'),\n",
       " (81, 'Introduction to Management Accounting', 'AC 0012', 'Aaron Quinn  Weinstein', 'Spring2015'),\n",
       " (81, 'Introduction to Management Accounting', 'AC 0012', 'Aaron R.  Van Dyke', 'Spring2015'),\n",
       " (78, 'Introduction to Management Accounting', 'AC 0012', 'Abdel Illah A.  Douda', 'Spring2015'),\n",
       " (54, 'Introduction to Management Accounting', 'AC 0012', 'Adam E.  Rugg', 'Spring2015'),\n",
       " (13, 'Accounting Information Systems', 'AC 0265', 'Adrian H.  van der Kroef', 'Spring2015'),\n",
       " (54, 'Introduction to Management Accounting', 'AC 0012', 'Adrian S.  Rusu-Sprincenatu', 'Spring2015'),\n",
       " (66, 'Cost Management', 'AC 0320', 'Ahmed M.  Ebrahim', 'Spring2015'),\n",
       " (78, 'Intermediate Accounting II', 'AC 0204', 'Alan   Anderson', 'Spring2015'),\n",
       " (26, 'Intermediate Accounting I', 'AC 0203', 'Alan C.  Murchie', 'Spring2015')]"
      ]
     },
     "execution_count": 45,
     "metadata": {},
     "output_type": "execute_result"
    }
   ],
   "source": [
    "%%sql\n",
    "SELECT DISTINCT COUNT(SECTION) AS SECTIONCOUNT, COURSE_MEETING_FACTS.COURSETITLE, COURSE_MEETING_FACTS.CATALOGID, NAME, TERM\n",
    "FROM Course_Meeting_Facts\n",
    "    LEFT JOIN INSTRUCTORS_DIM ON PRIMARYINSTRUCTORID = INSTRUCTORID\n",
    "    LEFT JOIN CATALOG_COURSES_DIM USING (COURSEID)\n",
    "WHERE TERM = \"Spring2015\" AND NAME <> \"None\"\n",
    "GROUP BY NAME\n",
    "HAVING COUNT(*)>1\n",
    "LIMIT 10\n",
    ";"
   ]
  },
  {
   "cell_type": "code",
   "execution_count": null,
   "metadata": {},
   "outputs": [],
   "source": []
  }
 ],
 "metadata": {
  "kernelspec": {
   "display_name": "Python 3",
   "language": "python",
   "name": "python3"
  },
  "language_info": {
   "codemirror_mode": {
    "name": "ipython",
    "version": 3
   },
   "file_extension": ".py",
   "mimetype": "text/x-python",
   "name": "python",
   "nbconvert_exporter": "python",
   "pygments_lexer": "ipython3",
   "version": "3.6.7"
  }
 },
 "nbformat": 4,
 "nbformat_minor": 4
}
