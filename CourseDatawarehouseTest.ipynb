{
 "cells": [
  {
   "cell_type": "code",
   "execution_count": 2,
   "metadata": {},
   "outputs": [],
   "source": [
    "%load_ext sql\n",
    "import pandas as pd\n",
    "import sqlite3"
   ]
  },
  {
   "cell_type": "code",
   "execution_count": 3,
   "metadata": {},
   "outputs": [],
   "source": [
    "%sql sqlite:///CourseData.db\n",
    "conn = sqlite3.connect('CourseData.db')"
   ]
  },
  {
   "cell_type": "code",
   "execution_count": 4,
   "metadata": {},
   "outputs": [
    {
     "name": "stdout",
     "output_type": "stream",
     "text": [
      " * sqlite:///CourseData.db\n",
      "Done.\n"
     ]
    },
    {
     "data": {
      "text/html": [
       "<table>\n",
       "    <tr>\n",
       "        <th>LocationID</th>\n",
       "        <th>LocationCode</th>\n",
       "    </tr>\n",
       "</table>"
      ],
      "text/plain": [
       "[]"
      ]
     },
     "execution_count": 4,
     "metadata": {},
     "output_type": "execute_result"
    }
   ],
   "source": [
    "%%sql\n",
    "SELECT locationID, LocationCode\n",
    "FROM Locations\n",
    "LIMIT 10"
   ]
  },
  {
   "cell_type": "code",
   "execution_count": 5,
   "metadata": {},
   "outputs": [
    {
     "data": {
      "text/html": [
       "<div>\n",
       "<style scoped>\n",
       "    .dataframe tbody tr th:only-of-type {\n",
       "        vertical-align: middle;\n",
       "    }\n",
       "\n",
       "    .dataframe tbody tr th {\n",
       "        vertical-align: top;\n",
       "    }\n",
       "\n",
       "    .dataframe thead th {\n",
       "        text-align: right;\n",
       "    }\n",
       "</style>\n",
       "<table border=\"1\" class=\"dataframe\">\n",
       "  <thead>\n",
       "    <tr style=\"text-align: right;\">\n",
       "      <th></th>\n",
       "    </tr>\n",
       "  </thead>\n",
       "  <tbody>\n",
       "  </tbody>\n",
       "</table>\n",
       "</div>"
      ],
      "text/plain": [
       "Empty DataFrame\n",
       "Columns: []\n",
       "Index: []"
      ]
     },
     "execution_count": 5,
     "metadata": {},
     "output_type": "execute_result"
    }
   ],
   "source": [
    "locations_df = _.DataFrame()\n",
    "locations_df"
   ]
  },
  {
   "cell_type": "code",
   "execution_count": 6,
   "metadata": {},
   "outputs": [
    {
     "name": "stdout",
     "output_type": "stream",
     "text": [
      " * sqlite:///CourseData.db\n",
      "Done.\n"
     ]
    },
    {
     "data": {
      "text/html": [
       "<table>\n",
       "    <tr>\n",
       "        <th>type</th>\n",
       "        <th>name</th>\n",
       "        <th>tbl_name</th>\n",
       "        <th>rootpage</th>\n",
       "        <th>sql</th>\n",
       "    </tr>\n",
       "    <tr>\n",
       "        <td>table</td>\n",
       "        <td>COURSE_OFFERINGS</td>\n",
       "        <td>COURSE_OFFERINGS</td>\n",
       "        <td>6</td>\n",
       "        <td>CREATE TABLE COURSE_OFFERINGS (<br>    CourseOfferingID INTEGER PRIMARY KEY,<br>    CourseID INTEGER,<br>    CatalogID TEXT NOT NULL,<br>    Term TEXT NOT NULL,<br>    CRN INTEGER NOT NULL,<br>    Section TEXT NOT NULL,<br>    Credits REAL,<br>    Title TEXT NOT NULL,<br>    Timecodes TEXT,<br>    PrimaryInstructorID INTEGER,<br>    Capacity INTEGER NOT NULL,<br>    Actual INTEGER NOT NULL,<br>    Remaining INTEGER NOT NULL,<br>    FOREIGN KEY (CourseID) REFERENCES CATALOG_COURSES(CourseID),<br>    FOREIGN KEY (PrimaryInstructorID) REFERENCES INSTRUCTORS(InstructorID)<br>)</td>\n",
       "    </tr>\n",
       "    <tr>\n",
       "        <td>table</td>\n",
       "        <td>TERM_CATALOG_YEAR</td>\n",
       "        <td>TERM_CATALOG_YEAR</td>\n",
       "        <td>9</td>\n",
       "        <td>CREATE TABLE TERM_CATALOG_YEAR (<br>    CatalogYear TEXT NOT NULL,<br>    Term TEXT NOT NULL<br>)</td>\n",
       "    </tr>\n",
       "    <tr>\n",
       "        <td>index</td>\n",
       "        <td>ix_course_offerings_alt_key</td>\n",
       "        <td>COURSE_OFFERINGS</td>\n",
       "        <td>12</td>\n",
       "        <td>CREATE INDEX ix_course_offerings_alt_key on COURSE_OFFERINGS(Term,CatalogID,Section)</td>\n",
       "    </tr>\n",
       "    <tr>\n",
       "        <td>table</td>\n",
       "        <td>COURSE_MEETINGS</td>\n",
       "        <td>COURSE_MEETINGS</td>\n",
       "        <td>8</td>\n",
       "        <td>CREATE TABLE COURSE_MEETINGS(<br>    CourseMeetingID INTEGER PRIMARY KEY,<br>    CourseOfferingID INTEGER NOT NULL,<br>    LocationID INTEGER NOT NULL,<br>    StartDateTime TEXT NOT NULL,<br>    EndDateTime TEXT NOT NULL,<br>    FOREIGN KEY (CourseOfferingID) REFERENCES COURSE_OFFERINGS(CourseOfferingID),<br>    FOREIGN KEY (LocationID) REFERENCES LOCATIONS(LocationID)<br>)</td>\n",
       "    </tr>\n",
       "    <tr>\n",
       "        <td>table</td>\n",
       "        <td>CATALOG_COURSES</td>\n",
       "        <td>CATALOG_COURSES</td>\n",
       "        <td>4</td>\n",
       "        <td>CREATE TABLE CATALOG_COURSES (<br>    CourseID INTEGER PRIMARY KEY,<br>    CatalogYear TEXT NOT NULL,<br>    CatalogID TEXT NOT NULL,<br>    ProgramID INTEGER,<br>    CourseTitle TEXT NOT NULL,<br>    Credits TEXT NOT NULL,<br>    Prereqs TEXT,<br>    Coreqs TEXT,<br>    Fees TEXT,<br>    Attributes TEXT,<br>    Description TEXT,<br>    FOREIGN KEY (ProgramID) REFERENCES PROGRAMS(ProgramID)<br>)</td>\n",
       "    </tr>\n",
       "    <tr>\n",
       "        <td>table</td>\n",
       "        <td>PROGRAMS</td>\n",
       "        <td>PROGRAMS</td>\n",
       "        <td>3</td>\n",
       "        <td>CREATE TABLE PROGRAMS (<br>    ProgramID INTEGER PRIMARY KEY,<br>    ProgramCode TEXT NOT NULL,<br>    ProgramName TEXT NOT NULL<br>)</td>\n",
       "    </tr>\n",
       "    <tr>\n",
       "        <td>table</td>\n",
       "        <td>LOCATIONS</td>\n",
       "        <td>LOCATIONS</td>\n",
       "        <td>7</td>\n",
       "        <td>CREATE TABLE LOCATIONS (<br>    LocationID INTEGER PRIMARY KEY,<br>    LocationCode TEXT NOT NULL<br>)</td>\n",
       "    </tr>\n",
       "    <tr>\n",
       "        <td>table</td>\n",
       "        <td>INSTRUCTORS</td>\n",
       "        <td>INSTRUCTORS</td>\n",
       "        <td>5</td>\n",
       "        <td>CREATE TABLE INSTRUCTORS (<br>    InstructorID INTEGER PRIMARY KEY,<br>    Name TEXT NOT NULL<br>)</td>\n",
       "    </tr>\n",
       "    <tr>\n",
       "        <td>table</td>\n",
       "        <td>COURSE_FACT_TABLE</td>\n",
       "        <td>COURSE_FACT_TABLE</td>\n",
       "        <td>2</td>\n",
       "        <td>CREATE TABLE COURSE_FACT_TABLE(<br>    CourseID INTEGER,<br>    CatalogID TEXT NOT NULL,<br>    Term TEXT NOT NULL,<br>    CRN INTEGER NOT NULL,<br>    Section TEXT NOT NULL,<br>    Credits REAL,<br>    Title TEXT NOT NULL,<br>    Timecodes TEXT,<br>    PrimaryInstructorID INTEGER,<br>    Capacity INTEGER NOT NULL,<br>    Actual INTEGER NOT NULL,<br>    Remaining INTEGER NOT NULL,<br>    CONSTRAINT COURSE_FACT_TABLE_PK PRIMARY KEY(COURSEID)<br>   -- CONSTRAINT COURSE_ID FOREIGN KEY(COURSEID)<br>   -- CONSTRAINT PROGRAM_ID FOREIGN KEY(PROGRAMID)<br>   -- CONSTRAINT LOCATION_ID FOREIGN KEY(LOCATIONID)<br>   -- CONSTRAINT INSTRUCTOR_ID FOREIGN KEY(INSTRUCTORID)<br>   -- CONSTRAINT COURSE_OFFERING_ID FOREIGN KEY(COURSEOFFERINGID)<br>)</td>\n",
       "    </tr>\n",
       "</table>"
      ],
      "text/plain": [
       "[('table', 'COURSE_OFFERINGS', 'COURSE_OFFERINGS', 6, 'CREATE TABLE COURSE_OFFERINGS (\\n    CourseOfferingID INTEGER PRIMARY KEY,\\n    CourseID INTEGER,\\n    CatalogID TEXT NOT NULL,\\n    Term TEXT NOT NU ... (249 characters truncated) ... ULL,\\n    FOREIGN KEY (CourseID) REFERENCES CATALOG_COURSES(CourseID),\\n    FOREIGN KEY (PrimaryInstructorID) REFERENCES INSTRUCTORS(InstructorID)\\n)'),\n",
       " ('table', 'TERM_CATALOG_YEAR', 'TERM_CATALOG_YEAR', 9, 'CREATE TABLE TERM_CATALOG_YEAR (\\n    CatalogYear TEXT NOT NULL,\\n    Term TEXT NOT NULL\\n)'),\n",
       " ('index', 'ix_course_offerings_alt_key', 'COURSE_OFFERINGS', 12, 'CREATE INDEX ix_course_offerings_alt_key on COURSE_OFFERINGS(Term,CatalogID,Section)'),\n",
       " ('table', 'COURSE_MEETINGS', 'COURSE_MEETINGS', 8, 'CREATE TABLE COURSE_MEETINGS(\\n    CourseMeetingID INTEGER PRIMARY KEY,\\n    CourseOfferingID INTEGER NOT NULL,\\n    LocationID INTEGER NOT NULL,\\n   ... (62 characters truncated) ... \\n    FOREIGN KEY (CourseOfferingID) REFERENCES COURSE_OFFERINGS(CourseOfferingID),\\n    FOREIGN KEY (LocationID) REFERENCES LOCATIONS(LocationID)\\n)'),\n",
       " ('table', 'CATALOG_COURSES', 'CATALOG_COURSES', 4, 'CREATE TABLE CATALOG_COURSES (\\n    CourseID INTEGER PRIMARY KEY,\\n    CatalogYear TEXT NOT NULL,\\n    CatalogID TEXT NOT NULL,\\n    ProgramID INTEGE ... (74 characters truncated) ... s TEXT,\\n    Coreqs TEXT,\\n    Fees TEXT,\\n    Attributes TEXT,\\n    Description TEXT,\\n    FOREIGN KEY (ProgramID) REFERENCES PROGRAMS(ProgramID)\\n)'),\n",
       " ('table', 'PROGRAMS', 'PROGRAMS', 3, 'CREATE TABLE PROGRAMS (\\n    ProgramID INTEGER PRIMARY KEY,\\n    ProgramCode TEXT NOT NULL,\\n    ProgramName TEXT NOT NULL\\n)'),\n",
       " ('table', 'LOCATIONS', 'LOCATIONS', 7, 'CREATE TABLE LOCATIONS (\\n    LocationID INTEGER PRIMARY KEY,\\n    LocationCode TEXT NOT NULL\\n)'),\n",
       " ('table', 'INSTRUCTORS', 'INSTRUCTORS', 5, 'CREATE TABLE INSTRUCTORS (\\n    InstructorID INTEGER PRIMARY KEY,\\n    Name TEXT NOT NULL\\n)'),\n",
       " ('table', 'COURSE_FACT_TABLE', 'COURSE_FACT_TABLE', 2, 'CREATE TABLE COURSE_FACT_TABLE(\\n    CourseID INTEGER,\\n    CatalogID TEXT NOT NULL,\\n    Term TEXT NOT NULL,\\n    CRN INTEGER NOT NULL,\\n    Section ... (404 characters truncated) ... REIGN KEY(LOCATIONID)\\n   -- CONSTRAINT INSTRUCTOR_ID FOREIGN KEY(INSTRUCTORID)\\n   -- CONSTRAINT COURSE_OFFERING_ID FOREIGN KEY(COURSEOFFERINGID)\\n)')]"
      ]
     },
     "execution_count": 6,
     "metadata": {},
     "output_type": "execute_result"
    }
   ],
   "source": [
    "%%sql\n",
    "SELECT *\n",
    "FROM sqlite_master"
   ]
  },
  {
   "cell_type": "code",
   "execution_count": 12,
   "metadata": {},
   "outputs": [
    {
     "name": "stdout",
     "output_type": "stream",
     "text": [
      " * sqlite:///CourseData.db\n",
      "Done.\n"
     ]
    },
    {
     "data": {
      "text/html": [
       "<table>\n",
       "    <tr>\n",
       "        <th>sql</th>\n",
       "    </tr>\n",
       "</table>"
      ],
      "text/plain": [
       "[]"
      ]
     },
     "execution_count": 12,
     "metadata": {},
     "output_type": "execute_result"
    }
   ],
   "source": [
    "%%sql\n",
    "SELECT sql\n",
    "FROM sqlite_master\n",
    "WHERE type = 'table' and name= 'Master'"
   ]
  },
  {
   "cell_type": "code",
   "execution_count": null,
   "metadata": {},
   "outputs": [],
   "source": []
  }
 ],
 "metadata": {
  "kernelspec": {
   "display_name": "Python 3",
   "language": "python",
   "name": "python3"
  },
  "language_info": {
   "codemirror_mode": {
    "name": "ipython",
    "version": 3
   },
   "file_extension": ".py",
   "mimetype": "text/x-python",
   "name": "python",
   "nbconvert_exporter": "python",
   "pygments_lexer": "ipython3",
   "version": "3.6.7"
  }
 },
 "nbformat": 4,
 "nbformat_minor": 4
}
