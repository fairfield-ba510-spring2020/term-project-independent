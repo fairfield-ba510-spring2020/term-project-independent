{
 "cells": [
  {
   "cell_type": "markdown",
   "metadata": {},
   "source": [
    "# Integrity Tests"
   ]
  },
  {
   "cell_type": "code",
   "execution_count": 1,
   "metadata": {},
   "outputs": [],
   "source": [
    "%load_ext sql"
   ]
  },
  {
   "cell_type": "code",
   "execution_count": 2,
   "metadata": {},
   "outputs": [
    {
     "data": {
      "text/plain": [
       "'Connected: @CourseDataWarehouse.db'"
      ]
     },
     "execution_count": 2,
     "metadata": {},
     "output_type": "execute_result"
    }
   ],
   "source": [
    "%%sql\n",
    "sqlite:///CourseDataWarehouse.db"
   ]
  },
  {
   "cell_type": "code",
   "execution_count": 3,
   "metadata": {},
   "outputs": [
    {
     "name": "stdout",
     "output_type": "stream",
     "text": [
      " * sqlite:///CourseDataWarehouse.db\n",
      "Done.\n"
     ]
    },
    {
     "data": {
      "text/html": [
       "<table>\n",
       "    <tr>\n",
       "        <th>LocationID</th>\n",
       "        <th>LocationCode</th>\n",
       "    </tr>\n",
       "    <tr>\n",
       "        <td>1</td>\n",
       "        <td>BCC 200</td>\n",
       "    </tr>\n",
       "    <tr>\n",
       "        <td>2</td>\n",
       "        <td>BD </td>\n",
       "    </tr>\n",
       "    <tr>\n",
       "        <td>3</td>\n",
       "        <td>BH </td>\n",
       "    </tr>\n",
       "    <tr>\n",
       "        <td>4</td>\n",
       "        <td>BH BY ARR</td>\n",
       "    </tr>\n",
       "    <tr>\n",
       "        <td>5</td>\n",
       "        <td>BLM 112</td>\n",
       "    </tr>\n",
       "    <tr>\n",
       "        <td>6</td>\n",
       "        <td>BLM LL105</td>\n",
       "    </tr>\n",
       "    <tr>\n",
       "        <td>7</td>\n",
       "        <td>BNW 124</td>\n",
       "    </tr>\n",
       "    <tr>\n",
       "        <td>8</td>\n",
       "        <td>BNW 127</td>\n",
       "    </tr>\n",
       "    <tr>\n",
       "        <td>9</td>\n",
       "        <td>BNW 128</td>\n",
       "    </tr>\n",
       "    <tr>\n",
       "        <td>10</td>\n",
       "        <td>BNW 129B</td>\n",
       "    </tr>\n",
       "</table>"
      ],
      "text/plain": [
       "[(1, 'BCC 200'),\n",
       " (2, 'BD '),\n",
       " (3, 'BH '),\n",
       " (4, 'BH BY ARR'),\n",
       " (5, 'BLM 112'),\n",
       " (6, 'BLM LL105'),\n",
       " (7, 'BNW 124'),\n",
       " (8, 'BNW 127'),\n",
       " (9, 'BNW 128'),\n",
       " (10, 'BNW 129B')]"
      ]
     },
     "execution_count": 3,
     "metadata": {},
     "output_type": "execute_result"
    }
   ],
   "source": [
    "%%sql\n",
    "SELECT locationID, LocationCode\n",
    "FROM LOCATIONS_DIM\n",
    "LIMIT 10;"
   ]
  },
  {
   "cell_type": "code",
   "execution_count": 4,
   "metadata": {},
   "outputs": [
    {
     "name": "stdout",
     "output_type": "stream",
     "text": [
      " * sqlite:///CourseDataWarehouse.db\n",
      "Done.\n"
     ]
    },
    {
     "data": {
      "text/html": [
       "<table>\n",
       "    <tr>\n",
       "        <th>type</th>\n",
       "        <th>name</th>\n",
       "        <th>tbl_name</th>\n",
       "        <th>rootpage</th>\n",
       "        <th>sql</th>\n",
       "    </tr>\n",
       "    <tr>\n",
       "        <td>table</td>\n",
       "        <td>COURSE_MEETINGS</td>\n",
       "        <td>COURSE_MEETINGS</td>\n",
       "        <td>6</td>\n",
       "        <td>CREATE TABLE COURSE_MEETINGS(<br>    CourseMeetingID INTEGER PRIMARY KEY,<br>    CourseOfferingID INTEGER NOT NULL,<br>    LocationID INTEGER NOT NULL,<br>    StartDateTime TEXT NOT NULL,<br>    EndDateTime TEXT NOT NULL,<br>    CatalogID TEXT NOT NULL,<br>    CourseID INTEGER NOT NULL,<br>    ProgramID INTEGER NOT NULL,<br>    CourseTitle TEXT NOT NULL,<br>    CatalogYear TEXT NOT NULL<br>)</td>\n",
       "    </tr>\n",
       "    <tr>\n",
       "        <td>table</td>\n",
       "        <td>CATALOG_COURSES</td>\n",
       "        <td>CATALOG_COURSES</td>\n",
       "        <td>2</td>\n",
       "        <td>CREATE TABLE CATALOG_COURSES (<br>    CourseID INTEGER PRIMARY KEY,<br>    CatalogYear TEXT NOT NULL,<br>    CatalogID TEXT NOT NULL,<br>    ProgramID INTEGER,<br>    CourseTitle TEXT NOT NULL,<br>    Credits TEXT NOT NULL,<br>    Prereqs TEXT,<br>    Coreqs TEXT,<br>    Fees TEXT,<br>    Attributes TEXT,<br>    Description TEXT<br>)</td>\n",
       "    </tr>\n",
       "    <tr>\n",
       "        <td>table</td>\n",
       "        <td>PROGRAMS</td>\n",
       "        <td>PROGRAMS</td>\n",
       "        <td>3</td>\n",
       "        <td>CREATE TABLE PROGRAMS (<br>    ProgramID INTEGER PRIMARY KEY,<br>    ProgramCode TEXT NOT NULL,<br>    ProgramName TEXT NOT NULL<br>)</td>\n",
       "    </tr>\n",
       "    <tr>\n",
       "        <td>table</td>\n",
       "        <td>LOCATIONS</td>\n",
       "        <td>LOCATIONS</td>\n",
       "        <td>4</td>\n",
       "        <td>CREATE TABLE LOCATIONS (<br>    LocationID INTEGER PRIMARY KEY,<br>    LocationCode TEXT NOT NULL<br>)</td>\n",
       "    </tr>\n",
       "    <tr>\n",
       "        <td>table</td>\n",
       "        <td>INSTRUCTORS</td>\n",
       "        <td>INSTRUCTORS</td>\n",
       "        <td>5</td>\n",
       "        <td>CREATE TABLE INSTRUCTORS (<br>    InstructorID INTEGER PRIMARY KEY,<br>    Name TEXT NOT NULL<br>)</td>\n",
       "    </tr>\n",
       "    <tr>\n",
       "        <td>table</td>\n",
       "        <td>CATALOG_COURSES_DIM</td>\n",
       "        <td>CATALOG_COURSES_DIM</td>\n",
       "        <td>8</td>\n",
       "        <td>CREATE TABLE CATALOG_COURSES_DIM (<br>    CourseID INTEGER PRIMARY KEY,<br>    CatalogYear TEXT NOT NULL,<br>    CatalogID TEXT NOT NULL,<br>    ProgramID INTEGER,<br>    CourseTitle TEXT NOT NULL,<br>    Credits TEXT NOT NULL,<br>    Prereqs TEXT,<br>    Coreqs TEXT,<br>    Fees TEXT,<br>    Attributes TEXT,<br>    Description TEXT<br>    <br>)</td>\n",
       "    </tr>\n",
       "    <tr>\n",
       "        <td>table</td>\n",
       "        <td>PROGRAMS_DIM</td>\n",
       "        <td>PROGRAMS_DIM</td>\n",
       "        <td>9</td>\n",
       "        <td>CREATE TABLE PROGRAMS_DIM (<br>    ProgramID INTEGER PRIMARY KEY,<br>    ProgramCode TEXT NOT NULL,<br>    ProgramName TEXT NOT NULL<br>)</td>\n",
       "    </tr>\n",
       "    <tr>\n",
       "        <td>table</td>\n",
       "        <td>LOCATIONS_DIM</td>\n",
       "        <td>LOCATIONS_DIM</td>\n",
       "        <td>10</td>\n",
       "        <td>CREATE TABLE LOCATIONS_DIM (<br>    LocationID INTEGER PRIMARY KEY,<br>    LocationCode TEXT NOT NULL<br>)</td>\n",
       "    </tr>\n",
       "    <tr>\n",
       "        <td>table</td>\n",
       "        <td>INSTRUCTORS_DIM</td>\n",
       "        <td>INSTRUCTORS_DIM</td>\n",
       "        <td>11</td>\n",
       "        <td>CREATE TABLE INSTRUCTORS_DIM (<br>    InstructorID INTEGER PRIMARY KEY,<br>    Name TEXT NOT NULL<br>)</td>\n",
       "    </tr>\n",
       "    <tr>\n",
       "        <td>table</td>\n",
       "        <td>COURSE_MEETING_FACTS</td>\n",
       "        <td>COURSE_MEETING_FACTS</td>\n",
       "        <td>7</td>\n",
       "        <td>CREATE TABLE COURSE_MEETING_FACTS(<br>    CourseMeetingID INTEGER PRIMARY KEY,<br>    CourseOfferingID INTEGER NOT NULL,<br>    LocationID INTEGER NOT NULL,<br>    StartDateTime TEXT NOT NULL,<br>    EndDateTime TEXT NOT NULL,<br>    CatalogID TEXT NOT NULL,<br>    CourseID INTEGER,<br>    ProgramID INTEGER,<br>    CourseTitle TEXT NOT NULL,<br>    CatalogYear TEXT,<br>    PrimaryInstructorID INTEGER,<br>    Term TEXT NOT NULL,<br>    CRN INTEGER NOT NULL,<br>    Section TEXT NOT NULL,<br>    Credits REAL,<br>    Timecodes TEXT<br>)</td>\n",
       "    </tr>\n",
       "</table>"
      ],
      "text/plain": [
       "[('table', 'COURSE_MEETINGS', 'COURSE_MEETINGS', 6, 'CREATE TABLE COURSE_MEETINGS(\\n    CourseMeetingID INTEGER PRIMARY KEY,\\n    CourseOfferingID INTEGER NOT NULL,\\n    LocationID INTEGER NOT NULL,\\n   ... (74 characters truncated) ... gID TEXT NOT NULL,\\n    CourseID INTEGER NOT NULL,\\n    ProgramID INTEGER NOT NULL,\\n    CourseTitle TEXT NOT NULL,\\n    CatalogYear TEXT NOT NULL\\n)'),\n",
       " ('table', 'CATALOG_COURSES', 'CATALOG_COURSES', 2, 'CREATE TABLE CATALOG_COURSES (\\n    CourseID INTEGER PRIMARY KEY,\\n    CatalogYear TEXT NOT NULL,\\n    CatalogID TEXT NOT NULL,\\n    ProgramID INTEGE ... (13 characters truncated) ... eTitle TEXT NOT NULL,\\n    Credits TEXT NOT NULL,\\n    Prereqs TEXT,\\n    Coreqs TEXT,\\n    Fees TEXT,\\n    Attributes TEXT,\\n    Description TEXT\\n)'),\n",
       " ('table', 'PROGRAMS', 'PROGRAMS', 3, 'CREATE TABLE PROGRAMS (\\n    ProgramID INTEGER PRIMARY KEY,\\n    ProgramCode TEXT NOT NULL,\\n    ProgramName TEXT NOT NULL\\n)'),\n",
       " ('table', 'LOCATIONS', 'LOCATIONS', 4, 'CREATE TABLE LOCATIONS (\\n    LocationID INTEGER PRIMARY KEY,\\n    LocationCode TEXT NOT NULL\\n)'),\n",
       " ('table', 'INSTRUCTORS', 'INSTRUCTORS', 5, 'CREATE TABLE INSTRUCTORS (\\n    InstructorID INTEGER PRIMARY KEY,\\n    Name TEXT NOT NULL\\n)'),\n",
       " ('table', 'CATALOG_COURSES_DIM', 'CATALOG_COURSES_DIM', 8, 'CREATE TABLE CATALOG_COURSES_DIM (\\n    CourseID INTEGER PRIMARY KEY,\\n    CatalogYear TEXT NOT NULL,\\n    CatalogID TEXT NOT NULL,\\n    ProgramID IN ... (23 characters truncated) ...  TEXT NOT NULL,\\n    Credits TEXT NOT NULL,\\n    Prereqs TEXT,\\n    Coreqs TEXT,\\n    Fees TEXT,\\n    Attributes TEXT,\\n    Description TEXT\\n    \\n)'),\n",
       " ('table', 'PROGRAMS_DIM', 'PROGRAMS_DIM', 9, 'CREATE TABLE PROGRAMS_DIM (\\n    ProgramID INTEGER PRIMARY KEY,\\n    ProgramCode TEXT NOT NULL,\\n    ProgramName TEXT NOT NULL\\n)'),\n",
       " ('table', 'LOCATIONS_DIM', 'LOCATIONS_DIM', 10, 'CREATE TABLE LOCATIONS_DIM (\\n    LocationID INTEGER PRIMARY KEY,\\n    LocationCode TEXT NOT NULL\\n)'),\n",
       " ('table', 'INSTRUCTORS_DIM', 'INSTRUCTORS_DIM', 11, 'CREATE TABLE INSTRUCTORS_DIM (\\n    InstructorID INTEGER PRIMARY KEY,\\n    Name TEXT NOT NULL\\n)'),\n",
       " ('table', 'COURSE_MEETING_FACTS', 'COURSE_MEETING_FACTS', 7, 'CREATE TABLE COURSE_MEETING_FACTS(\\n    CourseMeetingID INTEGER PRIMARY KEY,\\n    CourseOfferingID INTEGER NOT NULL,\\n    LocationID INTEGER NOT NULL ... (206 characters truncated) ... rimaryInstructorID INTEGER,\\n    Term TEXT NOT NULL,\\n    CRN INTEGER NOT NULL,\\n    Section TEXT NOT NULL,\\n    Credits REAL,\\n    Timecodes TEXT\\n)')]"
      ]
     },
     "execution_count": 4,
     "metadata": {},
     "output_type": "execute_result"
    }
   ],
   "source": [
    "%%sql\n",
    "SELECT *\n",
    "FROM sqlite_master"
   ]
  }
 ],
 "metadata": {
  "kernelspec": {
   "display_name": "Python 3",
   "language": "python",
   "name": "python3"
  },
  "language_info": {
   "codemirror_mode": {
    "name": "ipython",
    "version": 3
   },
   "file_extension": ".py",
   "mimetype": "text/x-python",
   "name": "python",
   "nbconvert_exporter": "python",
   "pygments_lexer": "ipython3",
   "version": "3.6.7"
  }
 },
 "nbformat": 4,
 "nbformat_minor": 4
}
