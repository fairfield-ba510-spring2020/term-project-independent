{
 "cells": [
  {
   "cell_type": "code",
   "execution_count": 1,
   "metadata": {},
   "outputs": [],
   "source": [
    "%load_ext sql\n",
    "import pandas as pd\n",
    "import sqlite3"
   ]
  },
  {
   "cell_type": "code",
   "execution_count": 2,
   "metadata": {},
   "outputs": [],
   "source": [
    "%sql sqlite:///CourseData.db\n",
    "conn = sqlite3.connect('CourseData.db')"
   ]
  },
  {
   "cell_type": "markdown",
   "metadata": {},
   "source": [
    "# ERD"
   ]
  },
  {
   "cell_type": "markdown",
   "metadata": {},
   "source": [
    "# Create Tables to Represent ERD"
   ]
  },
  {
   "cell_type": "code",
   "execution_count": 3,
   "metadata": {},
   "outputs": [
    {
     "name": "stdout",
     "output_type": "stream",
     "text": [
      " * sqlite:///CourseData.db\n",
      "Done.\n",
      "Done.\n",
      "Done.\n",
      "Done.\n",
      "Done.\n",
      "Done.\n",
      "Done.\n",
      "Done.\n",
      "Done.\n",
      "Done.\n",
      "Done.\n",
      "Done.\n",
      "Done.\n",
      "Done.\n",
      "Done.\n",
      "Done.\n",
      "Done.\n",
      "7 rows affected.\n"
     ]
    },
    {
     "data": {
      "text/plain": [
       "[]"
      ]
     },
     "execution_count": 3,
     "metadata": {},
     "output_type": "execute_result"
    }
   ],
   "source": [
    "%%sql\n",
    "\n",
    "-- Programs table\n",
    "DROP TABLE IF EXISTS PROGRAMS;\n",
    "CREATE TABLE PROGRAMS (\n",
    "    ProgramID INTEGER PRIMARY KEY,\n",
    "    ProgramCode TEXT NOT NULL,\n",
    "    ProgramName TEXT NOT NULL\n",
    ");\n",
    "\n",
    "-- Course Catalogs table\n",
    "DROP TABLE IF EXISTS CATALOG_COURSES;\n",
    "CREATE TABLE CATALOG_COURSES (\n",
    "    CourseID INTEGER PRIMARY KEY,\n",
    "    CatalogYear TEXT NOT NULL,\n",
    "    CatalogID TEXT NOT NULL,\n",
    "    ProgramID INTEGER,\n",
    "    CourseTitle TEXT NOT NULL,\n",
    "    Credits TEXT NOT NULL,\n",
    "    Prereqs TEXT,\n",
    "    Coreqs TEXT,\n",
    "    Fees TEXT,\n",
    "    Attributes TEXT,\n",
    "    Description TEXT,\n",
    "    FOREIGN KEY (ProgramID) REFERENCES PROGRAMS(ProgramID)\n",
    ");\n",
    "CREATE INDEX ix_catalog_courses_alt_key on CATALOG_COURSES(CatalogYear,CatalogID);\n",
    "\n",
    "-- Instructors table\n",
    "DROP TABLE IF EXISTS INSTRUCTORS;\n",
    "CREATE TABLE INSTRUCTORS (\n",
    "    InstructorID INTEGER PRIMARY KEY,\n",
    "    Name TEXT NOT NULL\n",
    ");\n",
    "CREATE INDEX ix_instructors_name on INSTRUCTORS(Name);\n",
    "\n",
    "-- Course Offerings table\n",
    "DROP TABLE IF EXISTS COURSE_OFFERINGS;\n",
    "CREATE TABLE COURSE_OFFERINGS (\n",
    "    CourseOfferingID INTEGER PRIMARY KEY,\n",
    "    CourseID INTEGER,\n",
    "    CatalogID TEXT NOT NULL,\n",
    "    Term TEXT NOT NULL,\n",
    "    CRN INTEGER NOT NULL,\n",
    "    Section TEXT NOT NULL,\n",
    "    Credits REAL,\n",
    "    Title TEXT NOT NULL,\n",
    "    Timecodes TEXT,\n",
    "    PrimaryInstructorID INTEGER,\n",
    "    Capacity INTEGER NOT NULL,\n",
    "    Actual INTEGER NOT NULL,\n",
    "    Remaining INTEGER NOT NULL,\n",
    "    FOREIGN KEY (CourseID) REFERENCES CATALOG_COURSES(CourseID),\n",
    "    FOREIGN KEY (PrimaryInstructorID) REFERENCES INSTRUCTORS(InstructorID)\n",
    ");\n",
    "CREATE INDEX ix_course_offerings_alt_key on COURSE_OFFERINGS(Term,CatalogID,Section);\n",
    "\n",
    "-- Locations table\n",
    "DROP TABLE IF EXISTS LOCATIONS;\n",
    "CREATE TABLE LOCATIONS (\n",
    "    LocationID INTEGER PRIMARY KEY,\n",
    "    LocationCode TEXT NOT NULL\n",
    ");\n",
    "\n",
    "-- Course Meetings table\n",
    "DROP TABLE IF EXISTS COURSE_MEETINGS;\n",
    "CREATE TABLE COURSE_MEETINGS (\n",
    "    CourseMeetingID INTEGER PRIMARY KEY,\n",
    "    CourseOfferingID INTEGER NOT NULL,\n",
    "    LocationID INTEGER NOT NULL,\n",
    "    StartDateTime TEXT NOT NULL,\n",
    "    EndDateTime TEXT NOT NULL,\n",
    "    FOREIGN KEY (CourseOfferingID) REFERENCES COURSE_OFFERINGS(CourseOfferingID),\n",
    "    FOREIGN KEY (LocationID) REFERENCES LOCATIONS(LocationID)\n",
    ");\n",
    "\n",
    "-- A conversion table for matching the term to the corresponding catalog year\n",
    "-- Catalogs are not available for the first several years\n",
    "DROP TABLE IF EXISTS TERM_CATALOG_YEAR;\n",
    "CREATE TABLE TERM_CATALOG_YEAR (\n",
    "    CatalogYear TEXT NOT NULL,\n",
    "    Term TEXT NOT NULL\n",
    ");\n",
    "\n",
    "INSERT INTO TERM_CATALOG_YEAR (Term, CatalogYear) VALUES \n",
    "('Fall2017','2017_2018'),('Winter2018','2017_2018'),('Spring2018','2017_2018'),('Summer2018','2017_2018'),('Fall2018','2018_2019'),\n",
    "('Winter2019','2018_2019'),('Spring2019','2018_2019');"
   ]
  },
  {
   "cell_type": "markdown",
   "metadata": {},
   "source": [
    "# Extracting Data "
   ]
  },
  {
   "cell_type": "code",
   "execution_count": 4,
   "metadata": {},
   "outputs": [],
   "source": [
    "#taken from example \n",
    "# Catalog Data\n",
    "catalog_years = ['2017_2018', '2018_2019']\n",
    "\n",
    "for cat_year in catalog_years:\n",
    "    filepath = 'SourceData/Catalogs/CourseCatalog'+cat_year+'.csv'\n",
    "    data = pd.read_csv(filepath)\n",
    "    data['cat_year'] = cat_year\n",
    "    data.to_sql('IMPORT_CATALOG_COURSES',conn,if_exists='append',index=False)"
   ]
  },
  {
   "cell_type": "code",
   "execution_count": 5,
   "metadata": {},
   "outputs": [],
   "source": [
    "#continued taken from example\n",
    "# Course Offering and Course Meeting Data\n",
    "terms = ['Fall2014','Fall2015','Fall2016','Fall2017','Fall2018',\n",
    "         'Spring2015','Spring2016','Spring2017','Spring2018','Spring2019',\n",
    "         'SpringBreak2017',\n",
    "         'Summer2015','Summer2016','Summer2017','Summer2018',\n",
    "         'Winter2015','Winter2016','Winter2017','Winter2018']\n",
    "\n",
    "for term in terms:\n",
    "    filepath = 'SourceData/'+term+'/courses.csv'\n",
    "    data = pd.read_csv(filepath)\n",
    "    data.to_sql('IMPORT_COURSE_OFFERINGS',conn,if_exists='append',index=False) \n",
    "    \n",
    "    filepath = 'SourceData/'+term+'/course_meetings.csv'\n",
    "    data = pd.read_csv(filepath)\n",
    "    data.to_sql('IMPORT_COURSE_MEETINGS',conn,if_exists='append',index=False)"
   ]
  },
  {
   "cell_type": "markdown",
   "metadata": {},
   "source": [
    "# SQL Commands "
   ]
  },
  {
   "cell_type": "code",
   "execution_count": 6,
   "metadata": {},
   "outputs": [
    {
     "name": "stdout",
     "output_type": "stream",
     "text": [
      " * sqlite:///CourseData.db\n",
      "Done.\n"
     ]
    },
    {
     "data": {
      "text/html": [
       "<table>\n",
       "    <tr>\n",
       "        <th>RawCount</th>\n",
       "        <th>DistinctCount</th>\n",
       "    </tr>\n",
       "    <tr>\n",
       "        <td>4440</td>\n",
       "        <td>4440</td>\n",
       "    </tr>\n",
       "</table>"
      ],
      "text/plain": [
       "[(4440, 4440)]"
      ]
     },
     "execution_count": 6,
     "metadata": {},
     "output_type": "execute_result"
    }
   ],
   "source": [
    "%%sql\n",
    "-- Record Counts for Catalog Courses\n",
    "SELECT \n",
    "    (SELECT Count(*) FROM IMPORT_CATALOG_COURSES) as 'RawCount',\n",
    "    (SELECT Count(*) FROM (SELECT DISTINCT * FROM IMPORT_CATALOG_COURSES)) as 'DistinctCount';"
   ]
  },
  {
   "cell_type": "code",
   "execution_count": 7,
   "metadata": {},
   "outputs": [
    {
     "name": "stdout",
     "output_type": "stream",
     "text": [
      " * sqlite:///CourseData.db\n",
      "Done.\n"
     ]
    },
    {
     "data": {
      "text/html": [
       "<table>\n",
       "    <tr>\n",
       "        <th>RawCount</th>\n",
       "        <th>DistinctCount</th>\n",
       "    </tr>\n",
       "    <tr>\n",
       "        <td>4440</td>\n",
       "        <td>4440</td>\n",
       "    </tr>\n",
       "</table>"
      ],
      "text/plain": [
       "[(4440, 4440)]"
      ]
     },
     "execution_count": 7,
     "metadata": {},
     "output_type": "execute_result"
    }
   ],
   "source": [
    "%%sql\n",
    "-- Record Counts for Catalog Courses\n",
    "SELECT \n",
    "    (SELECT Count(*) FROM IMPORT_CATALOG_COURSES) as 'RawCount',\n",
    "    (SELECT Count(*) FROM (SELECT DISTINCT * FROM IMPORT_CATALOG_COURSES)) as 'DistinctCount';"
   ]
  },
  {
   "cell_type": "code",
   "execution_count": 8,
   "metadata": {},
   "outputs": [
    {
     "name": "stdout",
     "output_type": "stream",
     "text": [
      " * sqlite:///CourseData.db\n",
      "Done.\n"
     ]
    },
    {
     "data": {
      "text/html": [
       "<table>\n",
       "    <tr>\n",
       "        <th>RawCount</th>\n",
       "        <th>DistinctCount</th>\n",
       "    </tr>\n",
       "    <tr>\n",
       "        <td>284907</td>\n",
       "        <td>284847</td>\n",
       "    </tr>\n",
       "</table>"
      ],
      "text/plain": [
       "[(284907, 284847)]"
      ]
     },
     "execution_count": 8,
     "metadata": {},
     "output_type": "execute_result"
    }
   ],
   "source": [
    "%%sql \n",
    "-- Record Counts for Course Meetings\n",
    "SELECT \n",
    "    (SELECT Count(*) FROM IMPORT_COURSE_MEETINGS) as 'RawCount',\n",
    "    (SELECT Count(*) FROM (SELECT DISTINCT * FROM IMPORT_COURSE_MEETINGS)) as 'DistinctCount';"
   ]
  },
  {
   "cell_type": "code",
   "execution_count": 9,
   "metadata": {},
   "outputs": [
    {
     "name": "stdout",
     "output_type": "stream",
     "text": [
      " * sqlite:///CourseData.db\n",
      "Done.\n"
     ]
    },
    {
     "data": {
      "text/html": [
       "<table>\n",
       "    <tr>\n",
       "        <th>term</th>\n",
       "        <th>crn</th>\n",
       "        <th>location</th>\n",
       "        <th>day</th>\n",
       "        <th>start</th>\n",
       "    </tr>\n",
       "    <tr>\n",
       "        <td>Fall2014</td>\n",
       "        <td>73073</td>\n",
       "        <td>MCA 102</td>\n",
       "        <td>M</td>\n",
       "        <td>2014-09-08T18:30:00</td>\n",
       "    </tr>\n",
       "    <tr>\n",
       "        <td>Fall2014</td>\n",
       "        <td>73073</td>\n",
       "        <td>MCA 102</td>\n",
       "        <td>M</td>\n",
       "        <td>2014-09-15T18:30:00</td>\n",
       "    </tr>\n",
       "    <tr>\n",
       "        <td>Fall2014</td>\n",
       "        <td>73073</td>\n",
       "        <td>MCA 102</td>\n",
       "        <td>M</td>\n",
       "        <td>2014-09-22T18:30:00</td>\n",
       "    </tr>\n",
       "    <tr>\n",
       "        <td>Fall2014</td>\n",
       "        <td>73073</td>\n",
       "        <td>MCA 102</td>\n",
       "        <td>M</td>\n",
       "        <td>2014-09-29T18:30:00</td>\n",
       "    </tr>\n",
       "    <tr>\n",
       "        <td>Fall2014</td>\n",
       "        <td>73073</td>\n",
       "        <td>MCA 102</td>\n",
       "        <td>M</td>\n",
       "        <td>2014-10-06T18:30:00</td>\n",
       "    </tr>\n",
       "    <tr>\n",
       "        <td>Fall2014</td>\n",
       "        <td>73073</td>\n",
       "        <td>MCA 102</td>\n",
       "        <td>M</td>\n",
       "        <td>2014-10-20T18:30:00</td>\n",
       "    </tr>\n",
       "    <tr>\n",
       "        <td>Fall2014</td>\n",
       "        <td>73073</td>\n",
       "        <td>MCA 102</td>\n",
       "        <td>M</td>\n",
       "        <td>2014-10-27T18:30:00</td>\n",
       "    </tr>\n",
       "    <tr>\n",
       "        <td>Fall2014</td>\n",
       "        <td>73073</td>\n",
       "        <td>MCA 102</td>\n",
       "        <td>M</td>\n",
       "        <td>2014-11-03T18:30:00</td>\n",
       "    </tr>\n",
       "    <tr>\n",
       "        <td>Fall2014</td>\n",
       "        <td>73073</td>\n",
       "        <td>MCA 102</td>\n",
       "        <td>M</td>\n",
       "        <td>2014-11-10T18:30:00</td>\n",
       "    </tr>\n",
       "    <tr>\n",
       "        <td>Fall2014</td>\n",
       "        <td>73073</td>\n",
       "        <td>MCA 102</td>\n",
       "        <td>M</td>\n",
       "        <td>2014-11-17T18:30:00</td>\n",
       "    </tr>\n",
       "    <tr>\n",
       "        <td>Fall2014</td>\n",
       "        <td>73073</td>\n",
       "        <td>MCA 102</td>\n",
       "        <td>M</td>\n",
       "        <td>2014-11-24T18:30:00</td>\n",
       "    </tr>\n",
       "    <tr>\n",
       "        <td>Fall2014</td>\n",
       "        <td>73073</td>\n",
       "        <td>MCA 102</td>\n",
       "        <td>M</td>\n",
       "        <td>2014-12-01T18:30:00</td>\n",
       "    </tr>\n",
       "    <tr>\n",
       "        <td>Fall2014</td>\n",
       "        <td>73073</td>\n",
       "        <td>MCA 102</td>\n",
       "        <td>M</td>\n",
       "        <td>2014-12-08T18:30:00</td>\n",
       "    </tr>\n",
       "    <tr>\n",
       "        <td>Fall2014</td>\n",
       "        <td>73073</td>\n",
       "        <td>MCA 102</td>\n",
       "        <td>M</td>\n",
       "        <td>2014-12-15T18:30:00</td>\n",
       "    </tr>\n",
       "    <tr>\n",
       "        <td>Fall2014</td>\n",
       "        <td>73188</td>\n",
       "        <td>SON 214</td>\n",
       "        <td>W</td>\n",
       "        <td>2014-09-03T17:00:00</td>\n",
       "    </tr>\n",
       "    <tr>\n",
       "        <td>Fall2014</td>\n",
       "        <td>73188</td>\n",
       "        <td>SON 214</td>\n",
       "        <td>W</td>\n",
       "        <td>2014-09-10T17:00:00</td>\n",
       "    </tr>\n",
       "    <tr>\n",
       "        <td>Fall2014</td>\n",
       "        <td>73188</td>\n",
       "        <td>SON 214</td>\n",
       "        <td>W</td>\n",
       "        <td>2014-09-17T17:00:00</td>\n",
       "    </tr>\n",
       "    <tr>\n",
       "        <td>Fall2014</td>\n",
       "        <td>73188</td>\n",
       "        <td>SON 214</td>\n",
       "        <td>W</td>\n",
       "        <td>2014-09-24T17:00:00</td>\n",
       "    </tr>\n",
       "    <tr>\n",
       "        <td>Fall2014</td>\n",
       "        <td>73188</td>\n",
       "        <td>SON 214</td>\n",
       "        <td>W</td>\n",
       "        <td>2014-10-01T17:00:00</td>\n",
       "    </tr>\n",
       "    <tr>\n",
       "        <td>Fall2014</td>\n",
       "        <td>73188</td>\n",
       "        <td>SON 214</td>\n",
       "        <td>W</td>\n",
       "        <td>2014-10-08T17:00:00</td>\n",
       "    </tr>\n",
       "    <tr>\n",
       "        <td>Fall2014</td>\n",
       "        <td>73188</td>\n",
       "        <td>SON 214</td>\n",
       "        <td>W</td>\n",
       "        <td>2014-10-15T17:00:00</td>\n",
       "    </tr>\n",
       "    <tr>\n",
       "        <td>Fall2014</td>\n",
       "        <td>73188</td>\n",
       "        <td>SON 214</td>\n",
       "        <td>W</td>\n",
       "        <td>2014-10-22T17:00:00</td>\n",
       "    </tr>\n",
       "    <tr>\n",
       "        <td>Fall2014</td>\n",
       "        <td>73188</td>\n",
       "        <td>SON 214</td>\n",
       "        <td>W</td>\n",
       "        <td>2014-10-29T17:00:00</td>\n",
       "    </tr>\n",
       "    <tr>\n",
       "        <td>Fall2014</td>\n",
       "        <td>73188</td>\n",
       "        <td>SON 214</td>\n",
       "        <td>W</td>\n",
       "        <td>2014-11-05T17:00:00</td>\n",
       "    </tr>\n",
       "    <tr>\n",
       "        <td>Fall2014</td>\n",
       "        <td>73188</td>\n",
       "        <td>SON 214</td>\n",
       "        <td>W</td>\n",
       "        <td>2014-11-12T17:00:00</td>\n",
       "    </tr>\n",
       "    <tr>\n",
       "        <td>Fall2014</td>\n",
       "        <td>73188</td>\n",
       "        <td>SON 214</td>\n",
       "        <td>W</td>\n",
       "        <td>2014-11-19T17:00:00</td>\n",
       "    </tr>\n",
       "    <tr>\n",
       "        <td>Fall2014</td>\n",
       "        <td>73188</td>\n",
       "        <td>SON 214</td>\n",
       "        <td>W</td>\n",
       "        <td>2014-11-26T17:00:00</td>\n",
       "    </tr>\n",
       "    <tr>\n",
       "        <td>Fall2014</td>\n",
       "        <td>73188</td>\n",
       "        <td>SON 214</td>\n",
       "        <td>W</td>\n",
       "        <td>2014-12-03T17:00:00</td>\n",
       "    </tr>\n",
       "    <tr>\n",
       "        <td>Fall2014</td>\n",
       "        <td>73188</td>\n",
       "        <td>SON 214</td>\n",
       "        <td>W</td>\n",
       "        <td>2014-12-10T17:00:00</td>\n",
       "    </tr>\n",
       "    <tr>\n",
       "        <td>Fall2014</td>\n",
       "        <td>73188</td>\n",
       "        <td>SON 214</td>\n",
       "        <td>W</td>\n",
       "        <td>2014-12-17T17:00:00</td>\n",
       "    </tr>\n",
       "    <tr>\n",
       "        <td>Spring2015</td>\n",
       "        <td>32325</td>\n",
       "        <td>SON 214</td>\n",
       "        <td>W</td>\n",
       "        <td>2015-01-21T17:00:00</td>\n",
       "    </tr>\n",
       "    <tr>\n",
       "        <td>Spring2015</td>\n",
       "        <td>32325</td>\n",
       "        <td>SON 214</td>\n",
       "        <td>W</td>\n",
       "        <td>2015-01-28T17:00:00</td>\n",
       "    </tr>\n",
       "    <tr>\n",
       "        <td>Spring2015</td>\n",
       "        <td>32325</td>\n",
       "        <td>SON 214</td>\n",
       "        <td>W</td>\n",
       "        <td>2015-02-04T17:00:00</td>\n",
       "    </tr>\n",
       "    <tr>\n",
       "        <td>Spring2015</td>\n",
       "        <td>32325</td>\n",
       "        <td>SON 214</td>\n",
       "        <td>W</td>\n",
       "        <td>2015-02-11T17:00:00</td>\n",
       "    </tr>\n",
       "    <tr>\n",
       "        <td>Spring2015</td>\n",
       "        <td>32325</td>\n",
       "        <td>SON 214</td>\n",
       "        <td>W</td>\n",
       "        <td>2015-02-18T17:00:00</td>\n",
       "    </tr>\n",
       "    <tr>\n",
       "        <td>Spring2015</td>\n",
       "        <td>32325</td>\n",
       "        <td>SON 214</td>\n",
       "        <td>W</td>\n",
       "        <td>2015-02-25T17:00:00</td>\n",
       "    </tr>\n",
       "    <tr>\n",
       "        <td>Spring2015</td>\n",
       "        <td>32325</td>\n",
       "        <td>SON 214</td>\n",
       "        <td>W</td>\n",
       "        <td>2015-03-04T17:00:00</td>\n",
       "    </tr>\n",
       "    <tr>\n",
       "        <td>Spring2015</td>\n",
       "        <td>32325</td>\n",
       "        <td>SON 214</td>\n",
       "        <td>W</td>\n",
       "        <td>2015-03-18T17:00:00</td>\n",
       "    </tr>\n",
       "    <tr>\n",
       "        <td>Spring2015</td>\n",
       "        <td>32325</td>\n",
       "        <td>SON 214</td>\n",
       "        <td>W</td>\n",
       "        <td>2015-03-25T17:00:00</td>\n",
       "    </tr>\n",
       "    <tr>\n",
       "        <td>Spring2015</td>\n",
       "        <td>32325</td>\n",
       "        <td>SON 214</td>\n",
       "        <td>W</td>\n",
       "        <td>2015-04-01T17:00:00</td>\n",
       "    </tr>\n",
       "    <tr>\n",
       "        <td>Spring2015</td>\n",
       "        <td>32325</td>\n",
       "        <td>SON 214</td>\n",
       "        <td>W</td>\n",
       "        <td>2015-04-08T17:00:00</td>\n",
       "    </tr>\n",
       "    <tr>\n",
       "        <td>Spring2015</td>\n",
       "        <td>32325</td>\n",
       "        <td>SON 214</td>\n",
       "        <td>W</td>\n",
       "        <td>2015-04-15T17:00:00</td>\n",
       "    </tr>\n",
       "    <tr>\n",
       "        <td>Spring2015</td>\n",
       "        <td>32325</td>\n",
       "        <td>SON 214</td>\n",
       "        <td>W</td>\n",
       "        <td>2015-04-22T17:00:00</td>\n",
       "    </tr>\n",
       "    <tr>\n",
       "        <td>Spring2015</td>\n",
       "        <td>32325</td>\n",
       "        <td>SON 214</td>\n",
       "        <td>W</td>\n",
       "        <td>2015-04-29T17:00:00</td>\n",
       "    </tr>\n",
       "    <tr>\n",
       "        <td>Spring2015</td>\n",
       "        <td>32325</td>\n",
       "        <td>SON 214</td>\n",
       "        <td>W</td>\n",
       "        <td>2015-05-06T17:00:00</td>\n",
       "    </tr>\n",
       "</table>"
      ],
      "text/plain": [
       "[('Fall2014', 73073, 'MCA 102', 'M', '2014-09-08T18:30:00'),\n",
       " ('Fall2014', 73073, 'MCA 102', 'M', '2014-09-15T18:30:00'),\n",
       " ('Fall2014', 73073, 'MCA 102', 'M', '2014-09-22T18:30:00'),\n",
       " ('Fall2014', 73073, 'MCA 102', 'M', '2014-09-29T18:30:00'),\n",
       " ('Fall2014', 73073, 'MCA 102', 'M', '2014-10-06T18:30:00'),\n",
       " ('Fall2014', 73073, 'MCA 102', 'M', '2014-10-20T18:30:00'),\n",
       " ('Fall2014', 73073, 'MCA 102', 'M', '2014-10-27T18:30:00'),\n",
       " ('Fall2014', 73073, 'MCA 102', 'M', '2014-11-03T18:30:00'),\n",
       " ('Fall2014', 73073, 'MCA 102', 'M', '2014-11-10T18:30:00'),\n",
       " ('Fall2014', 73073, 'MCA 102', 'M', '2014-11-17T18:30:00'),\n",
       " ('Fall2014', 73073, 'MCA 102', 'M', '2014-11-24T18:30:00'),\n",
       " ('Fall2014', 73073, 'MCA 102', 'M', '2014-12-01T18:30:00'),\n",
       " ('Fall2014', 73073, 'MCA 102', 'M', '2014-12-08T18:30:00'),\n",
       " ('Fall2014', 73073, 'MCA 102', 'M', '2014-12-15T18:30:00'),\n",
       " ('Fall2014', 73188, 'SON 214', 'W', '2014-09-03T17:00:00'),\n",
       " ('Fall2014', 73188, 'SON 214', 'W', '2014-09-10T17:00:00'),\n",
       " ('Fall2014', 73188, 'SON 214', 'W', '2014-09-17T17:00:00'),\n",
       " ('Fall2014', 73188, 'SON 214', 'W', '2014-09-24T17:00:00'),\n",
       " ('Fall2014', 73188, 'SON 214', 'W', '2014-10-01T17:00:00'),\n",
       " ('Fall2014', 73188, 'SON 214', 'W', '2014-10-08T17:00:00'),\n",
       " ('Fall2014', 73188, 'SON 214', 'W', '2014-10-15T17:00:00'),\n",
       " ('Fall2014', 73188, 'SON 214', 'W', '2014-10-22T17:00:00'),\n",
       " ('Fall2014', 73188, 'SON 214', 'W', '2014-10-29T17:00:00'),\n",
       " ('Fall2014', 73188, 'SON 214', 'W', '2014-11-05T17:00:00'),\n",
       " ('Fall2014', 73188, 'SON 214', 'W', '2014-11-12T17:00:00'),\n",
       " ('Fall2014', 73188, 'SON 214', 'W', '2014-11-19T17:00:00'),\n",
       " ('Fall2014', 73188, 'SON 214', 'W', '2014-11-26T17:00:00'),\n",
       " ('Fall2014', 73188, 'SON 214', 'W', '2014-12-03T17:00:00'),\n",
       " ('Fall2014', 73188, 'SON 214', 'W', '2014-12-10T17:00:00'),\n",
       " ('Fall2014', 73188, 'SON 214', 'W', '2014-12-17T17:00:00'),\n",
       " ('Spring2015', 32325, 'SON 214', 'W', '2015-01-21T17:00:00'),\n",
       " ('Spring2015', 32325, 'SON 214', 'W', '2015-01-28T17:00:00'),\n",
       " ('Spring2015', 32325, 'SON 214', 'W', '2015-02-04T17:00:00'),\n",
       " ('Spring2015', 32325, 'SON 214', 'W', '2015-02-11T17:00:00'),\n",
       " ('Spring2015', 32325, 'SON 214', 'W', '2015-02-18T17:00:00'),\n",
       " ('Spring2015', 32325, 'SON 214', 'W', '2015-02-25T17:00:00'),\n",
       " ('Spring2015', 32325, 'SON 214', 'W', '2015-03-04T17:00:00'),\n",
       " ('Spring2015', 32325, 'SON 214', 'W', '2015-03-18T17:00:00'),\n",
       " ('Spring2015', 32325, 'SON 214', 'W', '2015-03-25T17:00:00'),\n",
       " ('Spring2015', 32325, 'SON 214', 'W', '2015-04-01T17:00:00'),\n",
       " ('Spring2015', 32325, 'SON 214', 'W', '2015-04-08T17:00:00'),\n",
       " ('Spring2015', 32325, 'SON 214', 'W', '2015-04-15T17:00:00'),\n",
       " ('Spring2015', 32325, 'SON 214', 'W', '2015-04-22T17:00:00'),\n",
       " ('Spring2015', 32325, 'SON 214', 'W', '2015-04-29T17:00:00'),\n",
       " ('Spring2015', 32325, 'SON 214', 'W', '2015-05-06T17:00:00')]"
      ]
     },
     "execution_count": 9,
     "metadata": {},
     "output_type": "execute_result"
    }
   ],
   "source": [
    "%%sql \n",
    "SELECT term,crn,location, day, start \n",
    "FROM IMPORT_COURSE_MEETINGS\n",
    "GROUP BY term,crn,location, day, start\n",
    "HAVING COUNT(*)>1;"
   ]
  },
  {
   "cell_type": "markdown",
   "metadata": {},
   "source": [
    "# 3 & 4"
   ]
  },
  {
   "cell_type": "code",
   "execution_count": 10,
   "metadata": {},
   "outputs": [
    {
     "name": "stdout",
     "output_type": "stream",
     "text": [
      " * sqlite:///CourseData.db\n",
      "0 rows affected.\n",
      "1095 rows affected.\n"
     ]
    },
    {
     "data": {
      "text/plain": [
       "[]"
      ]
     },
     "execution_count": 10,
     "metadata": {},
     "output_type": "execute_result"
    }
   ],
   "source": [
    "%%sql\n",
    "DELETE FROM INSTRUCTORS;\n",
    "\n",
    "INSERT INTO INSTRUCTORS (Name)\n",
    "SELECT DISTINCT primary_instructor\n",
    "FROM import_course_offerings \n",
    "WHERE primary_instructor <> 'TBA' AND primary_instructor NOT LIKE '%/%';"
   ]
  },
  {
   "cell_type": "code",
   "execution_count": 11,
   "metadata": {},
   "outputs": [
    {
     "name": "stdout",
     "output_type": "stream",
     "text": [
      " * sqlite:///CourseData.db\n",
      "0 rows affected.\n",
      "83 rows affected.\n"
     ]
    },
    {
     "data": {
      "text/plain": [
       "[]"
      ]
     },
     "execution_count": 11,
     "metadata": {},
     "output_type": "execute_result"
    }
   ],
   "source": [
    "%%sql\n",
    "DELETE FROM PROGRAMS;\n",
    "\n",
    "INSERT INTO PROGRAMS (ProgramCode,ProgramName)\n",
    "SELECT DISTINCT program_code,program_name \n",
    "FROM IMPORT_CATALOG_COURSES\n",
    "ORDER BY program_code;\n"
   ]
  },
  {
   "cell_type": "code",
   "execution_count": 12,
   "metadata": {},
   "outputs": [
    {
     "name": "stdout",
     "output_type": "stream",
     "text": [
      " * sqlite:///CourseData.db\n",
      "0 rows affected.\n",
      "4440 rows affected.\n"
     ]
    },
    {
     "data": {
      "text/plain": [
       "[]"
      ]
     },
     "execution_count": 12,
     "metadata": {},
     "output_type": "execute_result"
    }
   ],
   "source": [
    "%%sql \n",
    "DELETE FROM CATALOG_COURSES;\n",
    "\n",
    "INSERT INTO CATALOG_COURSES (CatalogYear,ProgramID,CatalogID,CourseTitle,Credits,Prereqs,Coreqs,Fees,Attributes,Description)\n",
    "SELECT DISTINCT cat_year, ProgramID,catalog_id,course_title,credits,prereqs,coreqs,fees,attributes,description\n",
    "FROM IMPORT_CATALOG_COURSES \n",
    "    JOIN PROGRAMS ON (program_code = ProgramCode);"
   ]
  },
  {
   "cell_type": "code",
   "execution_count": 13,
   "metadata": {},
   "outputs": [
    {
     "name": "stdout",
     "output_type": "stream",
     "text": [
      " * sqlite:///CourseData.db\n",
      "0 rows affected.\n",
      "15937 rows affected.\n"
     ]
    },
    {
     "data": {
      "text/plain": [
       "[]"
      ]
     },
     "execution_count": 13,
     "metadata": {},
     "output_type": "execute_result"
    }
   ],
   "source": [
    "%%sql\n",
    "DELETE FROM COURSE_OFFERINGS;\n",
    "\n",
    "INSERT INTO COURSE_OFFERINGS (CourseID,Term,CRN,CatalogID,Section,Credits,Title,Timecodes,PrimaryInstructorID,Capacity, Actual, Remaining)\n",
    "SELECT DISTINCT CourseID,term,crn,catalog_id,section,import_course_offerings.credits,title,timecodes,InstructorID,cap,act,rem \n",
    "FROM import_course_offerings \n",
    "    LEFT JOIN INSTRUCTORS ON (primary_instructor=INSTRUCTORS.Name)\n",
    "    LEFT JOIN TERM_CATALOG_YEAR USING (Term)\n",
    "    LEFT JOIN CATALOG_COURSES ON (catalog_id = CatalogID AND CATALOG_COURSES.CatalogYear = TERM_CATALOG_YEAR.CatalogYear)\n",
    ";"
   ]
  },
  {
   "cell_type": "code",
   "execution_count": 14,
   "metadata": {},
   "outputs": [
    {
     "name": "stdout",
     "output_type": "stream",
     "text": [
      " * sqlite:///CourseData.db\n",
      "207 rows affected.\n"
     ]
    },
    {
     "data": {
      "text/plain": [
       "[]"
      ]
     },
     "execution_count": 14,
     "metadata": {},
     "output_type": "execute_result"
    }
   ],
   "source": [
    "%%sql \n",
    "INSERT INTO LOCATIONS (LocationCode)\n",
    "SELECT DISTINCT Location \n",
    "FROM import_course_meetings\n",
    "ORDER BY Location"
   ]
  },
  {
   "cell_type": "code",
   "execution_count": null,
   "metadata": {},
   "outputs": [
    {
     "name": "stdout",
     "output_type": "stream",
     "text": [
      " * sqlite:///CourseData.db\n",
      "0 rows affected.\n"
     ]
    }
   ],
   "source": [
    "%%sql\n",
    "DELETE FROM COURSE_MEETINGS;\n",
    "\n",
    "INSERT INTO COURSE_MEETINGS (CourseOfferingID,LocationID,StartDateTime,EndDateTime)\n",
    "SELECT DISTINCT COURSE_OFFERINGS.CourseOfferingID, LocationID,`Start`,`End`\n",
    "FROM import_course_meetings \n",
    "    JOIN COURSE_OFFERINGS USING (Term,CRN)\n",
    "    LEFT JOIN LOCATIONS ON (import_course_meetings.Location = LOCATIONS.LocationCode);"
   ]
  },
  {
   "cell_type": "markdown",
   "metadata": {},
   "source": [
    "# 5"
   ]
  },
  {
   "cell_type": "code",
   "execution_count": null,
   "metadata": {},
   "outputs": [],
   "source": [
    "%%sql\n",
    "-- There should be 4440 Catalog Entries, 15937 Course Offerings, and 284847 Course Meetings\n",
    "SELECT \n",
    "    (SELECT Count(*) FROM CATALOG_COURSES) as CatalogCourses,\n",
    "    (SELECT Count(*) FROM COURSE_OFFERINGS) as CourseOfferings,\n",
    "    (SELECT Count(*) FROM COURSE_MEETINGS) as CourseMeetings;\n",
    "-- integrity checks"
   ]
  },
  {
   "cell_type": "code",
   "execution_count": null,
   "metadata": {},
   "outputs": [],
   "source": [
    "%%sql \n",
    "-- relational\n",
    "-- A check of COURSE_OFFERINGS --> INSTRUCTORS, COURSE_OFFERINGS --> CATALOG_COURSES, CATALOG_COURSES --> PROGRAMS\n",
    "SELECT CourseID,CatalogYear,Term,CRN, Section,COURSE_OFFERINGS.CatalogID as CatID, Title,Capacity,Actual,Remaining,substr(Term,-4) as Year\n",
    "FROM COURSE_OFFERINGS \n",
    "    LEFT JOIN INSTRUCTORS ON (COURSE_OFFERINGS.PrimaryInstructorID = INSTRUCTORS.InstructorID)\n",
    "    LEFT JOIN CATALOG_COURSES USING (CourseID)\n",
    "    LEFT JOIN PROGRAMS USING (ProgramID)\n",
    "WHERE Name like '%Huntley'\n",
    "ORDER BY Year,Term DESC,CatID,Section;"
   ]
  },
  {
   "cell_type": "code",
   "execution_count": null,
   "metadata": {},
   "outputs": [],
   "source": [
    "%%sql\n",
    "-- A check of the COURSE_MEETINGS --> COURSE_OFFERINGS relationship\n",
    "SELECT Term, CourseOfferingID, Count(CourseMeetingID)\n",
    "FROM COURSE_OFFERINGS JOIN COURSE_MEETINGS USING (CourseOfferingID)\n",
    "WHERE CRN=39006 and Term = 'Spring2019'\n",
    "GROUP BY CourseOfferingID;"
   ]
  },
  {
   "cell_type": "code",
   "execution_count": null,
   "metadata": {},
   "outputs": [],
   "source": [
    "%%sql\n",
    "-- Check the course meetings for a known course offering\n",
    "SELECT CourseOfferingID, CourseMeetingID, StartDateTime\n",
    "FROM COURSE_OFFERINGS JOIN COURSE_MEETINGS USING (CourseOfferingID)\n",
    "WHERE CRN=39006 AND Term=\"Spring2019\""
   ]
  },
  {
   "cell_type": "markdown",
   "metadata": {},
   "source": [
    "# 6"
   ]
  },
  {
   "cell_type": "code",
   "execution_count": null,
   "metadata": {},
   "outputs": [],
   "source": [
    "%%sql\n",
    "-- Delete raw data\n",
    "DELETE FROM IMPORT_CATALOG_COURSES;\n",
    "DELETE FROM IMPORT_COURSE_OFFERINGS;\n",
    "DELETE FROM IMPORT_COURSE_MEETINGS;"
   ]
  },
  {
   "cell_type": "code",
   "execution_count": null,
   "metadata": {},
   "outputs": [],
   "source": [
    "%%sql\n",
    "-- Drop the tables\n",
    "DROP TABLE IMPORT_CATALOG_COURSES;\n",
    "DROP TABLE IMPORT_COURSE_OFFERINGS;\n",
    "DROP TABLE IMPORT_COURSE_MEETINGS;"
   ]
  },
  {
   "cell_type": "code",
   "execution_count": null,
   "metadata": {},
   "outputs": [],
   "source": [
    "%%sql\n",
    "-- Force SQLite to rebuild the database file to minimize file size\n",
    "vacuum;"
   ]
  },
  {
   "cell_type": "code",
   "execution_count": null,
   "metadata": {},
   "outputs": [],
   "source": [
    "%%sql\n",
    "SELECT *\n",
    "FROM PROGRAMS;"
   ]
  },
  {
   "cell_type": "code",
   "execution_count": null,
   "metadata": {},
   "outputs": [],
   "source": []
  }
 ],
 "metadata": {
  "kernelspec": {
   "display_name": "Python 3",
   "language": "python",
   "name": "python3"
  },
  "language_info": {
   "codemirror_mode": {
    "name": "ipython",
    "version": 3
   },
   "file_extension": ".py",
   "mimetype": "text/x-python",
   "name": "python",
   "nbconvert_exporter": "python",
   "pygments_lexer": "ipython3",
   "version": "3.6.7"
  }
 },
 "nbformat": 4,
 "nbformat_minor": 4
}
