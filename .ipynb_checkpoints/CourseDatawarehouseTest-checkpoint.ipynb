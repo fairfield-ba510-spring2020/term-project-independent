{
 "cells": [
  {
   "cell_type": "code",
   "execution_count": 1,
   "metadata": {},
   "outputs": [],
   "source": [
    "%load_ext sql\n",
    "import pandas as pd\n",
    "import sqlite3"
   ]
  },
  {
   "cell_type": "code",
   "execution_count": 2,
   "metadata": {},
   "outputs": [],
   "source": [
    "%sql sqlite:///CourseData.db\n",
    "conn = sqlite3.connect('CourseData.db')"
   ]
  },
  {
   "cell_type": "code",
   "execution_count": 3,
   "metadata": {},
   "outputs": [
    {
     "name": "stdout",
     "output_type": "stream",
     "text": [
      " * sqlite:///CourseData.db\n",
      "Done.\n"
     ]
    },
    {
     "data": {
      "text/html": [
       "<table>\n",
       "    <tr>\n",
       "        <th>LocationID</th>\n",
       "        <th>LocationCode</th>\n",
       "    </tr>\n",
       "    <tr>\n",
       "        <td>1</td>\n",
       "        <td>BCC 200</td>\n",
       "    </tr>\n",
       "    <tr>\n",
       "        <td>2</td>\n",
       "        <td>BD </td>\n",
       "    </tr>\n",
       "    <tr>\n",
       "        <td>3</td>\n",
       "        <td>BH </td>\n",
       "    </tr>\n",
       "    <tr>\n",
       "        <td>4</td>\n",
       "        <td>BH BY ARR</td>\n",
       "    </tr>\n",
       "    <tr>\n",
       "        <td>5</td>\n",
       "        <td>BLM 112</td>\n",
       "    </tr>\n",
       "    <tr>\n",
       "        <td>6</td>\n",
       "        <td>BLM LL105</td>\n",
       "    </tr>\n",
       "    <tr>\n",
       "        <td>7</td>\n",
       "        <td>BNW 124</td>\n",
       "    </tr>\n",
       "    <tr>\n",
       "        <td>8</td>\n",
       "        <td>BNW 127</td>\n",
       "    </tr>\n",
       "    <tr>\n",
       "        <td>9</td>\n",
       "        <td>BNW 128</td>\n",
       "    </tr>\n",
       "    <tr>\n",
       "        <td>10</td>\n",
       "        <td>BNW 129B</td>\n",
       "    </tr>\n",
       "</table>"
      ],
      "text/plain": [
       "[(1, 'BCC 200'),\n",
       " (2, 'BD '),\n",
       " (3, 'BH '),\n",
       " (4, 'BH BY ARR'),\n",
       " (5, 'BLM 112'),\n",
       " (6, 'BLM LL105'),\n",
       " (7, 'BNW 124'),\n",
       " (8, 'BNW 127'),\n",
       " (9, 'BNW 128'),\n",
       " (10, 'BNW 129B')]"
      ]
     },
     "execution_count": 3,
     "metadata": {},
     "output_type": "execute_result"
    }
   ],
   "source": [
    "%%sql\n",
    "SELECT locationID, LocationCode\n",
    "FROM Locations\n",
    "LIMIT 10"
   ]
  },
  {
   "cell_type": "code",
   "execution_count": 4,
   "metadata": {},
   "outputs": [
    {
     "data": {
      "text/html": [
       "<div>\n",
       "<style scoped>\n",
       "    .dataframe tbody tr th:only-of-type {\n",
       "        vertical-align: middle;\n",
       "    }\n",
       "\n",
       "    .dataframe tbody tr th {\n",
       "        vertical-align: top;\n",
       "    }\n",
       "\n",
       "    .dataframe thead th {\n",
       "        text-align: right;\n",
       "    }\n",
       "</style>\n",
       "<table border=\"1\" class=\"dataframe\">\n",
       "  <thead>\n",
       "    <tr style=\"text-align: right;\">\n",
       "      <th></th>\n",
       "      <th>LocationID</th>\n",
       "      <th>LocationCode</th>\n",
       "    </tr>\n",
       "  </thead>\n",
       "  <tbody>\n",
       "    <tr>\n",
       "      <th>0</th>\n",
       "      <td>1</td>\n",
       "      <td>BCC 200</td>\n",
       "    </tr>\n",
       "    <tr>\n",
       "      <th>1</th>\n",
       "      <td>2</td>\n",
       "      <td>BD</td>\n",
       "    </tr>\n",
       "    <tr>\n",
       "      <th>2</th>\n",
       "      <td>3</td>\n",
       "      <td>BH</td>\n",
       "    </tr>\n",
       "    <tr>\n",
       "      <th>3</th>\n",
       "      <td>4</td>\n",
       "      <td>BH BY ARR</td>\n",
       "    </tr>\n",
       "    <tr>\n",
       "      <th>4</th>\n",
       "      <td>5</td>\n",
       "      <td>BLM 112</td>\n",
       "    </tr>\n",
       "    <tr>\n",
       "      <th>5</th>\n",
       "      <td>6</td>\n",
       "      <td>BLM LL105</td>\n",
       "    </tr>\n",
       "    <tr>\n",
       "      <th>6</th>\n",
       "      <td>7</td>\n",
       "      <td>BNW 124</td>\n",
       "    </tr>\n",
       "    <tr>\n",
       "      <th>7</th>\n",
       "      <td>8</td>\n",
       "      <td>BNW 127</td>\n",
       "    </tr>\n",
       "    <tr>\n",
       "      <th>8</th>\n",
       "      <td>9</td>\n",
       "      <td>BNW 128</td>\n",
       "    </tr>\n",
       "    <tr>\n",
       "      <th>9</th>\n",
       "      <td>10</td>\n",
       "      <td>BNW 129B</td>\n",
       "    </tr>\n",
       "  </tbody>\n",
       "</table>\n",
       "</div>"
      ],
      "text/plain": [
       "   LocationID LocationCode\n",
       "0           1      BCC 200\n",
       "1           2          BD \n",
       "2           3          BH \n",
       "3           4    BH BY ARR\n",
       "4           5      BLM 112\n",
       "5           6    BLM LL105\n",
       "6           7      BNW 124\n",
       "7           8      BNW 127\n",
       "8           9      BNW 128\n",
       "9          10     BNW 129B"
      ]
     },
     "execution_count": 4,
     "metadata": {},
     "output_type": "execute_result"
    }
   ],
   "source": [
    "locations_df = _.DataFrame()\n",
    "locations_df"
   ]
  },
  {
   "cell_type": "code",
   "execution_count": 5,
   "metadata": {},
   "outputs": [
    {
     "name": "stdout",
     "output_type": "stream",
     "text": [
      " * sqlite:///CourseData.db\n",
      "Done.\n"
     ]
    },
    {
     "data": {
      "text/html": [
       "<table>\n",
       "    <tr>\n",
       "        <th>type</th>\n",
       "        <th>name</th>\n",
       "        <th>tbl_name</th>\n",
       "        <th>rootpage</th>\n",
       "        <th>sql</th>\n",
       "    </tr>\n",
       "    <tr>\n",
       "        <td>table</td>\n",
       "        <td>COURSE_FACT_TABLE</td>\n",
       "        <td>COURSE_FACT_TABLE</td>\n",
       "        <td>2</td>\n",
       "        <td>CREATE TABLE COURSE_FACT_TABLE(<br>    CourseID INTEGER,<br>    CatalogID TEXT NOT NULL,<br>    Term TEXT NOT NULL,<br>    CRN INTEGER NOT NULL,<br>    Section TEXT NOT NULL,<br>    Credits REAL,<br>    Title TEXT NOT NULL,<br>    Timecodes TEXT,<br>    PrimaryInstructorID INTEGER,<br>    Capacity INTEGER NOT NULL,<br>    Actual INTEGER NOT NULL,<br>    Remaining INTEGER NOT NULL,<br>    CONSTRAINT COURSE_FACT_TABLE_PK PRIMARY KEY(COURSEID)<br>   -- CONSTRAINT COURSE_ID FOREIGN KEY(COURSEID)<br>   -- CONSTRAINT PROGRAM_ID FOREIGN KEY(PROGRAMID)<br>   -- CONSTRAINT LOCATION_ID FOREIGN KEY(LOCATIONID)<br>   -- CONSTRAINT INSTRUCTOR_ID FOREIGN KEY(INSTRUCTORID)<br>   -- CONSTRAINT COURSE_OFFERING_ID FOREIGN KEY(COURSEOFFERINGID)<br>)</td>\n",
       "    </tr>\n",
       "    <tr>\n",
       "        <td>table</td>\n",
       "        <td>PROGRAMS</td>\n",
       "        <td>PROGRAMS</td>\n",
       "        <td>3</td>\n",
       "        <td>CREATE TABLE PROGRAMS (<br>    ProgramID INTEGER PRIMARY KEY,<br>    ProgramCode TEXT NOT NULL,<br>    ProgramName TEXT NOT NULL<br>)</td>\n",
       "    </tr>\n",
       "    <tr>\n",
       "        <td>table</td>\n",
       "        <td>CATALOG_COURSES</td>\n",
       "        <td>CATALOG_COURSES</td>\n",
       "        <td>4</td>\n",
       "        <td>CREATE TABLE CATALOG_COURSES (<br>    CourseID INTEGER PRIMARY KEY,<br>    CatalogYear TEXT NOT NULL,<br>    CatalogID TEXT NOT NULL,<br>    ProgramID INTEGER,<br>    CourseTitle TEXT NOT NULL,<br>    Credits TEXT NOT NULL,<br>    Prereqs TEXT,<br>    Coreqs TEXT,<br>    Fees TEXT,<br>    Attributes TEXT,<br>    Description TEXT,<br>    FOREIGN KEY (ProgramID) REFERENCES PROGRAMS(ProgramID)<br>)</td>\n",
       "    </tr>\n",
       "    <tr>\n",
       "        <td>table</td>\n",
       "        <td>INSTRUCTORS</td>\n",
       "        <td>INSTRUCTORS</td>\n",
       "        <td>5</td>\n",
       "        <td>CREATE TABLE INSTRUCTORS (<br>    InstructorID INTEGER PRIMARY KEY,<br>    Name TEXT NOT NULL<br>)</td>\n",
       "    </tr>\n",
       "    <tr>\n",
       "        <td>table</td>\n",
       "        <td>COURSE_OFFERINGS</td>\n",
       "        <td>COURSE_OFFERINGS</td>\n",
       "        <td>6</td>\n",
       "        <td>CREATE TABLE COURSE_OFFERINGS (<br>    CourseOfferingID INTEGER PRIMARY KEY,<br>    CourseID INTEGER,<br>    CatalogID TEXT NOT NULL,<br>    Term TEXT NOT NULL,<br>    CRN INTEGER NOT NULL,<br>    Section TEXT NOT NULL,<br>    Credits REAL,<br>    Title TEXT NOT NULL,<br>    Timecodes TEXT,<br>    PrimaryInstructorID INTEGER,<br>    Capacity INTEGER NOT NULL,<br>    Actual INTEGER NOT NULL,<br>    Remaining INTEGER NOT NULL,<br>    FOREIGN KEY (CourseID) REFERENCES CATALOG_COURSES(CourseID),<br>    FOREIGN KEY (PrimaryInstructorID) REFERENCES INSTRUCTORS(InstructorID)<br>)</td>\n",
       "    </tr>\n",
       "    <tr>\n",
       "        <td>table</td>\n",
       "        <td>LOCATIONS</td>\n",
       "        <td>LOCATIONS</td>\n",
       "        <td>7</td>\n",
       "        <td>CREATE TABLE LOCATIONS (<br>    LocationID INTEGER PRIMARY KEY,<br>    LocationCode TEXT NOT NULL<br>)</td>\n",
       "    </tr>\n",
       "    <tr>\n",
       "        <td>table</td>\n",
       "        <td>COURSE_MEETINGS</td>\n",
       "        <td>COURSE_MEETINGS</td>\n",
       "        <td>8</td>\n",
       "        <td>CREATE TABLE COURSE_MEETINGS (<br>    CourseMeetingID INTEGER PRIMARY KEY,<br>    CourseOfferingID INTEGER NOT NULL,<br>    LocationID INTEGER NOT NULL,<br>    StartDateTime TEXT NOT NULL,<br>    EndDateTime TEXT NOT NULL,<br>    FOREIGN KEY (CourseOfferingID) REFERENCES COURSE_OFFERINGS(CourseOfferingID),<br>    FOREIGN KEY (LocationID) REFERENCES LOCATIONS(LocationID)<br>)</td>\n",
       "    </tr>\n",
       "    <tr>\n",
       "        <td>table</td>\n",
       "        <td>TERM_CATALOG_YEAR</td>\n",
       "        <td>TERM_CATALOG_YEAR</td>\n",
       "        <td>9</td>\n",
       "        <td>CREATE TABLE TERM_CATALOG_YEAR (<br>    CatalogYear TEXT NOT NULL,<br>    Term TEXT NOT NULL<br>)</td>\n",
       "    </tr>\n",
       "    <tr>\n",
       "        <td>index</td>\n",
       "        <td>ix_catalog_courses_alt_key</td>\n",
       "        <td>CATALOG_COURSES</td>\n",
       "        <td>10</td>\n",
       "        <td>CREATE INDEX ix_catalog_courses_alt_key on CATALOG_COURSES(CatalogYear,CatalogID)</td>\n",
       "    </tr>\n",
       "    <tr>\n",
       "        <td>index</td>\n",
       "        <td>ix_instructors_name</td>\n",
       "        <td>INSTRUCTORS</td>\n",
       "        <td>11</td>\n",
       "        <td>CREATE INDEX ix_instructors_name on INSTRUCTORS(Name)</td>\n",
       "    </tr>\n",
       "    <tr>\n",
       "        <td>index</td>\n",
       "        <td>ix_course_offerings_alt_key</td>\n",
       "        <td>COURSE_OFFERINGS</td>\n",
       "        <td>12</td>\n",
       "        <td>CREATE INDEX ix_course_offerings_alt_key on COURSE_OFFERINGS(Term,CatalogID,Section)</td>\n",
       "    </tr>\n",
       "</table>"
      ],
      "text/plain": [
       "[('table', 'COURSE_FACT_TABLE', 'COURSE_FACT_TABLE', 2, 'CREATE TABLE COURSE_FACT_TABLE(\\n    CourseID INTEGER,\\n    CatalogID TEXT NOT NULL,\\n    Term TEXT NOT NULL,\\n    CRN INTEGER NOT NULL,\\n    Section ... (404 characters truncated) ... REIGN KEY(LOCATIONID)\\n   -- CONSTRAINT INSTRUCTOR_ID FOREIGN KEY(INSTRUCTORID)\\n   -- CONSTRAINT COURSE_OFFERING_ID FOREIGN KEY(COURSEOFFERINGID)\\n)'),\n",
       " ('table', 'PROGRAMS', 'PROGRAMS', 3, 'CREATE TABLE PROGRAMS (\\n    ProgramID INTEGER PRIMARY KEY,\\n    ProgramCode TEXT NOT NULL,\\n    ProgramName TEXT NOT NULL\\n)'),\n",
       " ('table', 'CATALOG_COURSES', 'CATALOG_COURSES', 4, 'CREATE TABLE CATALOG_COURSES (\\n    CourseID INTEGER PRIMARY KEY,\\n    CatalogYear TEXT NOT NULL,\\n    CatalogID TEXT NOT NULL,\\n    ProgramID INTEGE ... (74 characters truncated) ... s TEXT,\\n    Coreqs TEXT,\\n    Fees TEXT,\\n    Attributes TEXT,\\n    Description TEXT,\\n    FOREIGN KEY (ProgramID) REFERENCES PROGRAMS(ProgramID)\\n)'),\n",
       " ('table', 'INSTRUCTORS', 'INSTRUCTORS', 5, 'CREATE TABLE INSTRUCTORS (\\n    InstructorID INTEGER PRIMARY KEY,\\n    Name TEXT NOT NULL\\n)'),\n",
       " ('table', 'COURSE_OFFERINGS', 'COURSE_OFFERINGS', 6, 'CREATE TABLE COURSE_OFFERINGS (\\n    CourseOfferingID INTEGER PRIMARY KEY,\\n    CourseID INTEGER,\\n    CatalogID TEXT NOT NULL,\\n    Term TEXT NOT NU ... (249 characters truncated) ... ULL,\\n    FOREIGN KEY (CourseID) REFERENCES CATALOG_COURSES(CourseID),\\n    FOREIGN KEY (PrimaryInstructorID) REFERENCES INSTRUCTORS(InstructorID)\\n)'),\n",
       " ('table', 'LOCATIONS', 'LOCATIONS', 7, 'CREATE TABLE LOCATIONS (\\n    LocationID INTEGER PRIMARY KEY,\\n    LocationCode TEXT NOT NULL\\n)'),\n",
       " ('table', 'COURSE_MEETINGS', 'COURSE_MEETINGS', 8, 'CREATE TABLE COURSE_MEETINGS (\\n    CourseMeetingID INTEGER PRIMARY KEY,\\n    CourseOfferingID INTEGER NOT NULL,\\n    LocationID INTEGER NOT NULL,\\n  ... (63 characters truncated) ... \\n    FOREIGN KEY (CourseOfferingID) REFERENCES COURSE_OFFERINGS(CourseOfferingID),\\n    FOREIGN KEY (LocationID) REFERENCES LOCATIONS(LocationID)\\n)'),\n",
       " ('table', 'TERM_CATALOG_YEAR', 'TERM_CATALOG_YEAR', 9, 'CREATE TABLE TERM_CATALOG_YEAR (\\n    CatalogYear TEXT NOT NULL,\\n    Term TEXT NOT NULL\\n)'),\n",
       " ('index', 'ix_catalog_courses_alt_key', 'CATALOG_COURSES', 10, 'CREATE INDEX ix_catalog_courses_alt_key on CATALOG_COURSES(CatalogYear,CatalogID)'),\n",
       " ('index', 'ix_instructors_name', 'INSTRUCTORS', 11, 'CREATE INDEX ix_instructors_name on INSTRUCTORS(Name)'),\n",
       " ('index', 'ix_course_offerings_alt_key', 'COURSE_OFFERINGS', 12, 'CREATE INDEX ix_course_offerings_alt_key on COURSE_OFFERINGS(Term,CatalogID,Section)')]"
      ]
     },
     "execution_count": 5,
     "metadata": {},
     "output_type": "execute_result"
    }
   ],
   "source": [
    "%%sql\n",
    "SELECT *\n",
    "FROM sqlite_master"
   ]
  },
  {
   "cell_type": "code",
   "execution_count": 9,
   "metadata": {},
   "outputs": [
    {
     "name": "stdout",
     "output_type": "stream",
     "text": [
      " * sqlite:///CourseData.db\n",
      "Done.\n"
     ]
    },
    {
     "data": {
      "text/html": [
       "<table>\n",
       "    <tr>\n",
       "        <th>CatalogYear</th>\n",
       "        <th>CourseTitle</th>\n",
       "        <th>Prereqs</th>\n",
       "    </tr>\n",
       "    <tr>\n",
       "        <td>2017_2018</td>\n",
       "        <td>Legal Environment of Business</td>\n",
       "        <td>Junior standing.</td>\n",
       "    </tr>\n",
       "    <tr>\n",
       "        <td>2017_2018</td>\n",
       "        <td>The Law of Contracts, Sales, and Property</td>\n",
       "        <td>BU 0211.</td>\n",
       "    </tr>\n",
       "    <tr>\n",
       "        <td>2017_2018</td>\n",
       "        <td>The Law of Business Organizations and Financial Transactions</td>\n",
       "        <td>BU 0211.</td>\n",
       "    </tr>\n",
       "    <tr>\n",
       "        <td>2017_2018</td>\n",
       "        <td>Seminar in Business Law and Ethics</td>\n",
       "        <td>AE 0291, BU 0211, two additional courses in law or applied ethics.</td>\n",
       "    </tr>\n",
       "    <tr>\n",
       "        <td>2017_2018</td>\n",
       "        <td>Biomechanics</td>\n",
       "        <td>MA 0145, PS 0115.</td>\n",
       "    </tr>\n",
       "</table>"
      ],
      "text/plain": [
       "[('2017_2018', 'Legal Environment of Business', 'Junior standing.'),\n",
       " ('2017_2018', 'The Law of Contracts, Sales, and Property', 'BU 0211.'),\n",
       " ('2017_2018', 'The Law of Business Organizations and Financial Transactions', 'BU 0211.'),\n",
       " ('2017_2018', 'Seminar in Business Law and Ethics', 'AE 0291, BU 0211, two additional courses in law or applied ethics.'),\n",
       " ('2017_2018', 'Biomechanics', 'MA 0145, PS 0115.')]"
      ]
     },
     "execution_count": 9,
     "metadata": {},
     "output_type": "execute_result"
    }
   ],
   "source": [
    "%%sql\n",
    "SELECT CATALOGYEAR, COURSETITLE, PREREQS\n",
    "FROM CATALOG_COURSES\n",
    "WHERE PREREQS >=1\n",
    "LIMIT 5;"
   ]
  },
  {
   "cell_type": "code",
   "execution_count": null,
   "metadata": {},
   "outputs": [],
   "source": []
  }
 ],
 "metadata": {
  "kernelspec": {
   "display_name": "Python 3",
   "language": "python",
   "name": "python3"
  },
  "language_info": {
   "codemirror_mode": {
    "name": "ipython",
    "version": 3
   },
   "file_extension": ".py",
   "mimetype": "text/x-python",
   "name": "python",
   "nbconvert_exporter": "python",
   "pygments_lexer": "ipython3",
   "version": "3.6.7"
  }
 },
 "nbformat": 4,
 "nbformat_minor": 4
}
