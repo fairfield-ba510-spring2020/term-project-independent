{
 "cells": [
  {
   "cell_type": "code",
   "execution_count": 1,
   "metadata": {},
   "outputs": [],
   "source": [
    "%load_ext sql\n",
    "import sqlite3"
   ]
  },
  {
   "cell_type": "code",
   "execution_count": 2,
   "metadata": {},
   "outputs": [
    {
     "data": {
      "text/plain": [
       "'Connected: @CourseDataWarehouse.db'"
      ]
     },
     "execution_count": 2,
     "metadata": {},
     "output_type": "execute_result"
    }
   ],
   "source": [
    "%sql sqlite:///CourseDataWarehouse.db"
   ]
  },
  {
   "cell_type": "code",
   "execution_count": 3,
   "metadata": {},
   "outputs": [
    {
     "name": "stdout",
     "output_type": "stream",
     "text": [
      " * sqlite:///CourseDataWarehouse.db\n",
      "Done.\n"
     ]
    },
    {
     "data": {
      "text/html": [
       "<table>\n",
       "    <tr>\n",
       "        <th>LocationID</th>\n",
       "        <th>LocationCode</th>\n",
       "    </tr>\n",
       "    <tr>\n",
       "        <td>1</td>\n",
       "        <td>BCC 200</td>\n",
       "    </tr>\n",
       "    <tr>\n",
       "        <td>2</td>\n",
       "        <td>BD </td>\n",
       "    </tr>\n",
       "    <tr>\n",
       "        <td>3</td>\n",
       "        <td>BH </td>\n",
       "    </tr>\n",
       "    <tr>\n",
       "        <td>4</td>\n",
       "        <td>BH BY ARR</td>\n",
       "    </tr>\n",
       "    <tr>\n",
       "        <td>5</td>\n",
       "        <td>BLM 112</td>\n",
       "    </tr>\n",
       "    <tr>\n",
       "        <td>6</td>\n",
       "        <td>BLM LL105</td>\n",
       "    </tr>\n",
       "    <tr>\n",
       "        <td>7</td>\n",
       "        <td>BNW 124</td>\n",
       "    </tr>\n",
       "    <tr>\n",
       "        <td>8</td>\n",
       "        <td>BNW 127</td>\n",
       "    </tr>\n",
       "    <tr>\n",
       "        <td>9</td>\n",
       "        <td>BNW 128</td>\n",
       "    </tr>\n",
       "    <tr>\n",
       "        <td>10</td>\n",
       "        <td>BNW 129B</td>\n",
       "    </tr>\n",
       "</table>"
      ],
      "text/plain": [
       "[(1, 'BCC 200'),\n",
       " (2, 'BD '),\n",
       " (3, 'BH '),\n",
       " (4, 'BH BY ARR'),\n",
       " (5, 'BLM 112'),\n",
       " (6, 'BLM LL105'),\n",
       " (7, 'BNW 124'),\n",
       " (8, 'BNW 127'),\n",
       " (9, 'BNW 128'),\n",
       " (10, 'BNW 129B')]"
      ]
     },
     "execution_count": 3,
     "metadata": {},
     "output_type": "execute_result"
    }
   ],
   "source": [
    "%%sql\n",
    "SELECT locationID, LocationCode\n",
    "FROM LOCATIONS_DIM\n",
    "LIMIT 10;"
   ]
  },
  {
   "cell_type": "code",
   "execution_count": 4,
   "metadata": {},
   "outputs": [
    {
     "name": "stdout",
     "output_type": "stream",
     "text": [
      " * sqlite:///CourseDataWarehouse.db\n",
      "Done.\n"
     ]
    },
    {
     "data": {
      "text/html": [
       "<table>\n",
       "    <tr>\n",
       "        <th>type</th>\n",
       "        <th>name</th>\n",
       "        <th>tbl_name</th>\n",
       "        <th>rootpage</th>\n",
       "        <th>sql</th>\n",
       "    </tr>\n",
       "    <tr>\n",
       "        <td>table</td>\n",
       "        <td>COURSE_MEETINGS</td>\n",
       "        <td>COURSE_MEETINGS</td>\n",
       "        <td>6</td>\n",
       "        <td>CREATE TABLE COURSE_MEETINGS(<br>    CourseMeetingID INTEGER PRIMARY KEY,<br>    CourseOfferingID INTEGER NOT NULL,<br>    LocationID INTEGER NOT NULL,<br>    StartDateTime TEXT NOT NULL,<br>    EndDateTime TEXT NOT NULL,<br>    CatalogID TEXT NOT NULL,<br>    CourseID INTEGER NOT NULL,<br>    ProgramID INTEGER NOT NULL,<br>    CourseTitle TEXT NOT NULL,<br>    CatalogYear TEXT NOT NULL<br>)</td>\n",
       "    </tr>\n",
       "    <tr>\n",
       "        <td>table</td>\n",
       "        <td>CATALOG_COURSES</td>\n",
       "        <td>CATALOG_COURSES</td>\n",
       "        <td>2</td>\n",
       "        <td>CREATE TABLE CATALOG_COURSES (<br>    CourseID INTEGER PRIMARY KEY,<br>    CatalogYear TEXT NOT NULL,<br>    CatalogID TEXT NOT NULL,<br>    ProgramID INTEGER,<br>    CourseTitle TEXT NOT NULL,<br>    Credits TEXT NOT NULL,<br>    Prereqs TEXT,<br>    Coreqs TEXT,<br>    Fees TEXT,<br>    Attributes TEXT,<br>    Description TEXT<br>)</td>\n",
       "    </tr>\n",
       "    <tr>\n",
       "        <td>table</td>\n",
       "        <td>PROGRAMS</td>\n",
       "        <td>PROGRAMS</td>\n",
       "        <td>3</td>\n",
       "        <td>CREATE TABLE PROGRAMS (<br>    ProgramID INTEGER PRIMARY KEY,<br>    ProgramCode TEXT NOT NULL,<br>    ProgramName TEXT NOT NULL<br>)</td>\n",
       "    </tr>\n",
       "    <tr>\n",
       "        <td>table</td>\n",
       "        <td>LOCATIONS</td>\n",
       "        <td>LOCATIONS</td>\n",
       "        <td>4</td>\n",
       "        <td>CREATE TABLE LOCATIONS (<br>    LocationID INTEGER PRIMARY KEY,<br>    LocationCode TEXT NOT NULL<br>)</td>\n",
       "    </tr>\n",
       "    <tr>\n",
       "        <td>table</td>\n",
       "        <td>INSTRUCTORS</td>\n",
       "        <td>INSTRUCTORS</td>\n",
       "        <td>5</td>\n",
       "        <td>CREATE TABLE INSTRUCTORS (<br>    InstructorID INTEGER PRIMARY KEY,<br>    Name TEXT NOT NULL<br>)</td>\n",
       "    </tr>\n",
       "    <tr>\n",
       "        <td>table</td>\n",
       "        <td>CATALOG_COURSES_DIM</td>\n",
       "        <td>CATALOG_COURSES_DIM</td>\n",
       "        <td>8</td>\n",
       "        <td>CREATE TABLE CATALOG_COURSES_DIM (<br>    CourseID INTEGER PRIMARY KEY,<br>    CatalogYear TEXT NOT NULL,<br>    CatalogID TEXT NOT NULL,<br>    ProgramID INTEGER,<br>    CourseTitle TEXT NOT NULL,<br>    Credits TEXT NOT NULL,<br>    Prereqs TEXT,<br>    Coreqs TEXT,<br>    Fees TEXT,<br>    Attributes TEXT,<br>    Description TEXT<br>    <br>)</td>\n",
       "    </tr>\n",
       "    <tr>\n",
       "        <td>table</td>\n",
       "        <td>PROGRAMS_DIM</td>\n",
       "        <td>PROGRAMS_DIM</td>\n",
       "        <td>9</td>\n",
       "        <td>CREATE TABLE PROGRAMS_DIM (<br>    ProgramID INTEGER PRIMARY KEY,<br>    ProgramCode TEXT NOT NULL,<br>    ProgramName TEXT NOT NULL<br>)</td>\n",
       "    </tr>\n",
       "    <tr>\n",
       "        <td>table</td>\n",
       "        <td>LOCATIONS_DIM</td>\n",
       "        <td>LOCATIONS_DIM</td>\n",
       "        <td>10</td>\n",
       "        <td>CREATE TABLE LOCATIONS_DIM (<br>    LocationID INTEGER PRIMARY KEY,<br>    LocationCode TEXT NOT NULL<br>)</td>\n",
       "    </tr>\n",
       "    <tr>\n",
       "        <td>table</td>\n",
       "        <td>INSTRUCTORS_DIM</td>\n",
       "        <td>INSTRUCTORS_DIM</td>\n",
       "        <td>11</td>\n",
       "        <td>CREATE TABLE INSTRUCTORS_DIM (<br>    InstructorID INTEGER PRIMARY KEY,<br>    Name TEXT NOT NULL<br>)</td>\n",
       "    </tr>\n",
       "    <tr>\n",
       "        <td>table</td>\n",
       "        <td>COURSE_MEETING_FACTS</td>\n",
       "        <td>COURSE_MEETING_FACTS</td>\n",
       "        <td>7</td>\n",
       "        <td>CREATE TABLE COURSE_MEETING_FACTS(<br>    CourseMeetingID INTEGER PRIMARY KEY,<br>    CourseOfferingID INTEGER NOT NULL,<br>    LocationID INTEGER NOT NULL,<br>    StartDateTime TEXT NOT NULL,<br>    EndDateTime TEXT NOT NULL,<br>    CatalogID TEXT NOT NULL,<br>    CourseID INTEGER,<br>    ProgramID INTEGER,<br>    CourseTitle TEXT NOT NULL,<br>    CatalogYear TEXT,<br>    PrimaryInstructorID INTEGER,<br>    Term TEXT NOT NULL,<br>    CRN INTEGER NOT NULL,<br>    Section TEXT NOT NULL,<br>    Credits REAL,<br>    Timecodes TEXT<br>)</td>\n",
       "    </tr>\n",
       "</table>"
      ],
      "text/plain": [
       "[('table', 'COURSE_MEETINGS', 'COURSE_MEETINGS', 6, 'CREATE TABLE COURSE_MEETINGS(\\n    CourseMeetingID INTEGER PRIMARY KEY,\\n    CourseOfferingID INTEGER NOT NULL,\\n    LocationID INTEGER NOT NULL,\\n   ... (74 characters truncated) ... gID TEXT NOT NULL,\\n    CourseID INTEGER NOT NULL,\\n    ProgramID INTEGER NOT NULL,\\n    CourseTitle TEXT NOT NULL,\\n    CatalogYear TEXT NOT NULL\\n)'),\n",
       " ('table', 'CATALOG_COURSES', 'CATALOG_COURSES', 2, 'CREATE TABLE CATALOG_COURSES (\\n    CourseID INTEGER PRIMARY KEY,\\n    CatalogYear TEXT NOT NULL,\\n    CatalogID TEXT NOT NULL,\\n    ProgramID INTEGE ... (13 characters truncated) ... eTitle TEXT NOT NULL,\\n    Credits TEXT NOT NULL,\\n    Prereqs TEXT,\\n    Coreqs TEXT,\\n    Fees TEXT,\\n    Attributes TEXT,\\n    Description TEXT\\n)'),\n",
       " ('table', 'PROGRAMS', 'PROGRAMS', 3, 'CREATE TABLE PROGRAMS (\\n    ProgramID INTEGER PRIMARY KEY,\\n    ProgramCode TEXT NOT NULL,\\n    ProgramName TEXT NOT NULL\\n)'),\n",
       " ('table', 'LOCATIONS', 'LOCATIONS', 4, 'CREATE TABLE LOCATIONS (\\n    LocationID INTEGER PRIMARY KEY,\\n    LocationCode TEXT NOT NULL\\n)'),\n",
       " ('table', 'INSTRUCTORS', 'INSTRUCTORS', 5, 'CREATE TABLE INSTRUCTORS (\\n    InstructorID INTEGER PRIMARY KEY,\\n    Name TEXT NOT NULL\\n)'),\n",
       " ('table', 'CATALOG_COURSES_DIM', 'CATALOG_COURSES_DIM', 8, 'CREATE TABLE CATALOG_COURSES_DIM (\\n    CourseID INTEGER PRIMARY KEY,\\n    CatalogYear TEXT NOT NULL,\\n    CatalogID TEXT NOT NULL,\\n    ProgramID IN ... (23 characters truncated) ...  TEXT NOT NULL,\\n    Credits TEXT NOT NULL,\\n    Prereqs TEXT,\\n    Coreqs TEXT,\\n    Fees TEXT,\\n    Attributes TEXT,\\n    Description TEXT\\n    \\n)'),\n",
       " ('table', 'PROGRAMS_DIM', 'PROGRAMS_DIM', 9, 'CREATE TABLE PROGRAMS_DIM (\\n    ProgramID INTEGER PRIMARY KEY,\\n    ProgramCode TEXT NOT NULL,\\n    ProgramName TEXT NOT NULL\\n)'),\n",
       " ('table', 'LOCATIONS_DIM', 'LOCATIONS_DIM', 10, 'CREATE TABLE LOCATIONS_DIM (\\n    LocationID INTEGER PRIMARY KEY,\\n    LocationCode TEXT NOT NULL\\n)'),\n",
       " ('table', 'INSTRUCTORS_DIM', 'INSTRUCTORS_DIM', 11, 'CREATE TABLE INSTRUCTORS_DIM (\\n    InstructorID INTEGER PRIMARY KEY,\\n    Name TEXT NOT NULL\\n)'),\n",
       " ('table', 'COURSE_MEETING_FACTS', 'COURSE_MEETING_FACTS', 7, 'CREATE TABLE COURSE_MEETING_FACTS(\\n    CourseMeetingID INTEGER PRIMARY KEY,\\n    CourseOfferingID INTEGER NOT NULL,\\n    LocationID INTEGER NOT NULL ... (206 characters truncated) ... rimaryInstructorID INTEGER,\\n    Term TEXT NOT NULL,\\n    CRN INTEGER NOT NULL,\\n    Section TEXT NOT NULL,\\n    Credits REAL,\\n    Timecodes TEXT\\n)')]"
      ]
     },
     "execution_count": 4,
     "metadata": {},
     "output_type": "execute_result"
    }
   ],
   "source": [
    "%%sql\n",
    "SELECT *\n",
    "FROM sqlite_master"
   ]
  },
  {
   "cell_type": "markdown",
   "metadata": {},
   "source": [
    "# Questions"
   ]
  },
  {
   "cell_type": "markdown",
   "metadata": {},
   "source": [
    "# What Courses Require a Prereq?"
   ]
  },
  {
   "cell_type": "code",
   "execution_count": 23,
   "metadata": {},
   "outputs": [
    {
     "name": "stdout",
     "output_type": "stream",
     "text": [
      " * sqlite:///CourseDataWarehouse.db\n",
      "Done.\n"
     ]
    },
    {
     "data": {
      "text/html": [
       "<table>\n",
       "    <tr>\n",
       "        <th>CourseTitle</th>\n",
       "        <th>Prereqs</th>\n",
       "    </tr>\n",
       "    <tr>\n",
       "        <td>Introduction to Management Accounting</td>\n",
       "        <td>AC 0011.</td>\n",
       "    </tr>\n",
       "    <tr>\n",
       "        <td>Intermediate Accounting I</td>\n",
       "        <td>AC 0011.</td>\n",
       "    </tr>\n",
       "    <tr>\n",
       "        <td>Intermediate Accounting II</td>\n",
       "        <td>AC 0203.</td>\n",
       "    </tr>\n",
       "    <tr>\n",
       "        <td>Accounting Information Systems</td>\n",
       "        <td>AC 0012.</td>\n",
       "    </tr>\n",
       "    <tr>\n",
       "        <td>Advanced Accounting</td>\n",
       "        <td>AC 0204; junior or senior standing.</td>\n",
       "    </tr>\n",
       "    <tr>\n",
       "        <td>Cost Management</td>\n",
       "        <td>AC 0012, AC 0203, junior or senior standing.</td>\n",
       "    </tr>\n",
       "    <tr>\n",
       "        <td>Auditing</td>\n",
       "        <td>AC 0204; junior or senior standing.</td>\n",
       "    </tr>\n",
       "    <tr>\n",
       "        <td>Federal Income Taxation I</td>\n",
       "        <td>AC 0204; junior or senior standing.</td>\n",
       "    </tr>\n",
       "    <tr>\n",
       "        <td>Accounting Information for Decision-Making</td>\n",
       "        <td>AC 0400.</td>\n",
       "    </tr>\n",
       "    <tr>\n",
       "        <td>Roots of American Culture</td>\n",
       "        <td>One American Studies Gateway course.</td>\n",
       "    </tr>\n",
       "</table>"
      ],
      "text/plain": [
       "[('Introduction to Management Accounting', 'AC 0011.'),\n",
       " ('Intermediate Accounting I', 'AC 0011.'),\n",
       " ('Intermediate Accounting II', 'AC 0203.'),\n",
       " ('Accounting Information Systems', 'AC 0012.'),\n",
       " ('Advanced Accounting', 'AC 0204; junior or senior standing.'),\n",
       " ('Cost Management', 'AC 0012, AC 0203, junior or senior standing.'),\n",
       " ('Auditing', 'AC 0204; junior or senior standing.'),\n",
       " ('Federal Income Taxation I', 'AC 0204; junior or senior standing.'),\n",
       " ('Accounting Information for Decision-Making', 'AC 0400.'),\n",
       " ('Roots of American Culture', 'One American Studies Gateway course.')]"
      ]
     },
     "execution_count": 23,
     "metadata": {},
     "output_type": "execute_result"
    }
   ],
   "source": [
    "%%sql\n",
    "SELECT DISTINCT COURSE_MEETING_FACTS.COURSETITLE, PREREQS\n",
    "FROM Course_Meeting_Facts\n",
    "    LEFT JOIN INSTRUCTORS_DIM ON PRIMARYINSTRUCTORID = INSTRUCTORID\n",
    "    LEFT JOIN CATALOG_COURSES_DIM USING (COURSEID)\n",
    "WHERE PREREQS >=1\n",
    "LIMIT 10;"
   ]
  },
  {
   "cell_type": "code",
   "execution_count": 5,
   "metadata": {},
   "outputs": [
    {
     "name": "stdout",
     "output_type": "stream",
     "text": [
      " * sqlite:///CourseDataWarehouse.db\n",
      "Done.\n"
     ]
    },
    {
     "data": {
      "text/html": [
       "<table>\n",
       "    <tr>\n",
       "        <th>CatalogYear</th>\n",
       "        <th>CourseTitle</th>\n",
       "        <th>Prereqs</th>\n",
       "    </tr>\n",
       "</table>"
      ],
      "text/plain": [
       "[]"
      ]
     },
     "execution_count": 5,
     "metadata": {},
     "output_type": "execute_result"
    }
   ],
   "source": [
    "%%sql\n",
    "--What classes require prereq\n",
    "SELECT CATALOGYEAR, COURSETITLE, PREREQS\n",
    "FROM CATALOG_COURSES\n",
    "WHERE PREREQS >=1\n",
    "LIMIT 5;"
   ]
  },
  {
   "cell_type": "markdown",
   "metadata": {},
   "source": [
    "# What Courses Does Dr. Scheraga Teach?"
   ]
  },
  {
   "cell_type": "code",
   "execution_count": 6,
   "metadata": {},
   "outputs": [
    {
     "name": "stdout",
     "output_type": "stream",
     "text": [
      " * sqlite:///CourseDataWarehouse.db\n",
      "Done.\n"
     ]
    },
    {
     "data": {
      "text/html": [
       "<table>\n",
       "    <tr>\n",
       "        <th>CourseTitle</th>\n",
       "        <th>Name</th>\n",
       "    </tr>\n",
       "    <tr>\n",
       "        <td>Argument and Advocacy</td>\n",
       "        <td>Carl A.  Scheraga</td>\n",
       "    </tr>\n",
       "    <tr>\n",
       "        <td>Communication Philosophies, Theories, and Research Traditions</td>\n",
       "        <td>Carl A.  Scheraga</td>\n",
       "    </tr>\n",
       "    <tr>\n",
       "        <td>Family Communication</td>\n",
       "        <td>Carl A.  Scheraga</td>\n",
       "    </tr>\n",
       "    <tr>\n",
       "        <td>Human Communication Theories</td>\n",
       "        <td>Carl A.  Scheraga</td>\n",
       "    </tr>\n",
       "    <tr>\n",
       "        <td>Identities, Discourse, and Social Change</td>\n",
       "        <td>Carl A.  Scheraga</td>\n",
       "    </tr>\n",
       "    <tr>\n",
       "        <td>Interpersonal Communication</td>\n",
       "        <td>Carl A.  Scheraga</td>\n",
       "    </tr>\n",
       "    <tr>\n",
       "        <td>Interpersonal Communication Theories</td>\n",
       "        <td>Carl A.  Scheraga</td>\n",
       "    </tr>\n",
       "    <tr>\n",
       "        <td>Interracial Communication</td>\n",
       "        <td>Carl A.  Scheraga</td>\n",
       "    </tr>\n",
       "    <tr>\n",
       "        <td>Mass Media and Society</td>\n",
       "        <td>Carl A.  Scheraga</td>\n",
       "    </tr>\n",
       "    <tr>\n",
       "        <td>Race, Identity, and Representation</td>\n",
       "        <td>Carl A.  Scheraga</td>\n",
       "    </tr>\n",
       "    <tr>\n",
       "        <td>Research Projects in Communication: Capstone</td>\n",
       "        <td>Carl A.  Scheraga</td>\n",
       "    </tr>\n",
       "</table>"
      ],
      "text/plain": [
       "[('Argument and Advocacy', 'Carl A.  Scheraga'),\n",
       " ('Communication Philosophies, Theories, and Research Traditions', 'Carl A.  Scheraga'),\n",
       " ('Family Communication', 'Carl A.  Scheraga'),\n",
       " ('Human Communication Theories', 'Carl A.  Scheraga'),\n",
       " ('Identities, Discourse, and Social Change', 'Carl A.  Scheraga'),\n",
       " ('Interpersonal Communication', 'Carl A.  Scheraga'),\n",
       " ('Interpersonal Communication Theories', 'Carl A.  Scheraga'),\n",
       " ('Interracial Communication', 'Carl A.  Scheraga'),\n",
       " ('Mass Media and Society', 'Carl A.  Scheraga'),\n",
       " ('Race, Identity, and Representation', 'Carl A.  Scheraga'),\n",
       " ('Research Projects in Communication: Capstone', 'Carl A.  Scheraga')]"
      ]
     },
     "execution_count": 6,
     "metadata": {},
     "output_type": "execute_result"
    }
   ],
   "source": [
    "%%sql\n",
    "SELECT COURSE_MEETING_FACTS.COURSETITLE, NAME\n",
    "FROM Course_Meeting_Facts\n",
    "    LEFT JOIN INSTRUCTORS_DIM ON PRIMARYINSTRUCTORID = INSTRUCTORID\n",
    "    LEFT JOIN CATALOG_COURSES_DIM USING (COURSEID)\n",
    "WHERE NAME like \"%Scheraga\"\n",
    "GROUP BY COURSE_MEETING_FACTS.COURSETITLE, NAME"
   ]
  },
  {
   "cell_type": "markdown",
   "metadata": {},
   "source": [
    "# What Were the Course Offerings in Fall 2014?"
   ]
  },
  {
   "cell_type": "code",
   "execution_count": 18,
   "metadata": {},
   "outputs": [
    {
     "name": "stdout",
     "output_type": "stream",
     "text": [
      " * sqlite:///CourseDataWarehouse.db\n",
      "Done.\n"
     ]
    },
    {
     "data": {
      "text/html": [
       "<table>\n",
       "    <tr>\n",
       "        <th>Term</th>\n",
       "        <th>CourseTitle</th>\n",
       "        <th>CatalogID</th>\n",
       "        <th>Name</th>\n",
       "    </tr>\n",
       "    <tr>\n",
       "        <td>Fall2014</td>\n",
       "        <td>Introduction to Financial Accounting</td>\n",
       "        <td>AC 0011</td>\n",
       "        <td>Aaron K.  Perkus</td>\n",
       "    </tr>\n",
       "    <tr>\n",
       "        <td>Fall2014</td>\n",
       "        <td>Introduction to Financial Accounting</td>\n",
       "        <td>AC 0011</td>\n",
       "        <td>Aaron Quinn  Weinstein</td>\n",
       "    </tr>\n",
       "    <tr>\n",
       "        <td>Fall2014</td>\n",
       "        <td>Introduction to Financial Accounting</td>\n",
       "        <td>AC 0011</td>\n",
       "        <td>Aaron R.  Van Dyke</td>\n",
       "    </tr>\n",
       "    <tr>\n",
       "        <td>Fall2014</td>\n",
       "        <td>Introduction to Financial Accounting</td>\n",
       "        <td>AC 0011</td>\n",
       "        <td>Abdel Illah A.  Douda</td>\n",
       "    </tr>\n",
       "    <tr>\n",
       "        <td>Fall2014</td>\n",
       "        <td>Introduction to Financial Accounting</td>\n",
       "        <td>AC 0011</td>\n",
       "        <td>Adam E.  Rugg</td>\n",
       "    </tr>\n",
       "    <tr>\n",
       "        <td>Fall2014</td>\n",
       "        <td>Introduction to Financial Accounting</td>\n",
       "        <td>AC 0011</td>\n",
       "        <td>Adrian H.  van der Kroef</td>\n",
       "    </tr>\n",
       "    <tr>\n",
       "        <td>Fall2014</td>\n",
       "        <td>Introduction to Financial Accounting</td>\n",
       "        <td>AC 0011</td>\n",
       "        <td>Adrian S.  Rusu-Sprincenatu</td>\n",
       "    </tr>\n",
       "    <tr>\n",
       "        <td>Fall2014</td>\n",
       "        <td>Introduction to Management Accounting</td>\n",
       "        <td>AC 0012</td>\n",
       "        <td>Ahmed M.  Ebrahim</td>\n",
       "    </tr>\n",
       "    <tr>\n",
       "        <td>Fall2014</td>\n",
       "        <td>Intermediate Accounting I</td>\n",
       "        <td>AC 0203</td>\n",
       "        <td>Alan   Anderson</td>\n",
       "    </tr>\n",
       "    <tr>\n",
       "        <td>Fall2014</td>\n",
       "        <td>Intermediate Accounting II</td>\n",
       "        <td>AC 0204</td>\n",
       "        <td>Alan C.  Murchie</td>\n",
       "    </tr>\n",
       "</table>"
      ],
      "text/plain": [
       "[('Fall2014', 'Introduction to Financial Accounting', 'AC 0011', 'Aaron K.  Perkus'),\n",
       " ('Fall2014', 'Introduction to Financial Accounting', 'AC 0011', 'Aaron Quinn  Weinstein'),\n",
       " ('Fall2014', 'Introduction to Financial Accounting', 'AC 0011', 'Aaron R.  Van Dyke'),\n",
       " ('Fall2014', 'Introduction to Financial Accounting', 'AC 0011', 'Abdel Illah A.  Douda'),\n",
       " ('Fall2014', 'Introduction to Financial Accounting', 'AC 0011', 'Adam E.  Rugg'),\n",
       " ('Fall2014', 'Introduction to Financial Accounting', 'AC 0011', 'Adrian H.  van der Kroef'),\n",
       " ('Fall2014', 'Introduction to Financial Accounting', 'AC 0011', 'Adrian S.  Rusu-Sprincenatu'),\n",
       " ('Fall2014', 'Introduction to Management Accounting', 'AC 0012', 'Ahmed M.  Ebrahim'),\n",
       " ('Fall2014', 'Intermediate Accounting I', 'AC 0203', 'Alan   Anderson'),\n",
       " ('Fall2014', 'Intermediate Accounting II', 'AC 0204', 'Alan C.  Murchie')]"
      ]
     },
     "execution_count": 18,
     "metadata": {},
     "output_type": "execute_result"
    }
   ],
   "source": [
    "%%sql\n",
    "SELECT DISTINCT TERM, COURSE_MEETING_FACTS.COURSETITLE, COURSE_MEETING_FACTS.CATALOGID, NAME\n",
    "FROM Course_Meeting_Facts\n",
    "    LEFT JOIN INSTRUCTORS_DIM ON PRIMARYINSTRUCTORID = INSTRUCTORID\n",
    "    LEFT JOIN CATALOG_COURSES_DIM USING (COURSEID)\n",
    "WHERE TERM = 'Fall2014'\n",
    "LIMIT 10;"
   ]
  },
  {
   "cell_type": "markdown",
   "metadata": {},
   "source": [
    "# How Many Courses Were Offered Over the 2017 Winter Interession?"
   ]
  },
  {
   "cell_type": "code",
   "execution_count": 17,
   "metadata": {},
   "outputs": [
    {
     "name": "stdout",
     "output_type": "stream",
     "text": [
      " * sqlite:///CourseDataWarehouse.db\n",
      "Done.\n"
     ]
    },
    {
     "data": {
      "text/html": [
       "<table>\n",
       "    <tr>\n",
       "        <th>Term</th>\n",
       "        <th>COUNT(COURSE_MEETING_FACTS.COURSETITLE)</th>\n",
       "    </tr>\n",
       "    <tr>\n",
       "        <td>Winter2017</td>\n",
       "        <td>91</td>\n",
       "    </tr>\n",
       "</table>"
      ],
      "text/plain": [
       "[('Winter2017', 91)]"
      ]
     },
     "execution_count": 17,
     "metadata": {},
     "output_type": "execute_result"
    }
   ],
   "source": [
    "%%sql\n",
    "SELECT DISTINCT TERM, COUNT(COURSE_MEETING_FACTS.COURSETITLE)\n",
    "FROM Course_Meeting_Facts\n",
    "    LEFT JOIN INSTRUCTORS_DIM ON PRIMARYINSTRUCTORID = INSTRUCTORID\n",
    "    LEFT JOIN CATALOG_COURSES_DIM USING (COURSEID)\n",
    "WHERE TERM = 'Winter2017'\n",
    ";"
   ]
  },
  {
   "cell_type": "markdown",
   "metadata": {},
   "source": [
    "# What Courses Are 4 Credits?"
   ]
  },
  {
   "cell_type": "code",
   "execution_count": 34,
   "metadata": {},
   "outputs": [
    {
     "name": "stdout",
     "output_type": "stream",
     "text": [
      " * sqlite:///CourseDataWarehouse.db\n",
      "Done.\n"
     ]
    },
    {
     "data": {
      "text/html": [
       "<table>\n",
       "    <tr>\n",
       "        <th>CourseTitle</th>\n",
       "        <th>Credits</th>\n",
       "        <th>CatalogID</th>\n",
       "    </tr>\n",
       "    <tr>\n",
       "        <td>Adult Health II</td>\n",
       "        <td>4.0</td>\n",
       "        <td>NS 0643</td>\n",
       "    </tr>\n",
       "    <tr>\n",
       "        <td>Advanced Health Assessment</td>\n",
       "        <td>4.0</td>\n",
       "        <td>NS 0604</td>\n",
       "    </tr>\n",
       "    <tr>\n",
       "        <td>Advanced Nursing Roles for Systems Leadership and Improvement</td>\n",
       "        <td>4.0</td>\n",
       "        <td>NS 0521</td>\n",
       "    </tr>\n",
       "    <tr>\n",
       "        <td>Advanced Pathophysiology for Anesthesia Practice</td>\n",
       "        <td>4.0</td>\n",
       "        <td>NS 0669</td>\n",
       "    </tr>\n",
       "    <tr>\n",
       "        <td>Basic Latin</td>\n",
       "        <td>4.0</td>\n",
       "        <td>LA 0111</td>\n",
       "    </tr>\n",
       "    <tr>\n",
       "        <td>Biomedical Instrumentation</td>\n",
       "        <td>4.0</td>\n",
       "        <td>BEN 0300</td>\n",
       "    </tr>\n",
       "    <tr>\n",
       "        <td>Calculus I</td>\n",
       "        <td>4.0</td>\n",
       "        <td>MA 0171</td>\n",
       "    </tr>\n",
       "    <tr>\n",
       "        <td>Calculus I for Chemistry, Engineering, and Physics Majors</td>\n",
       "        <td>4.0</td>\n",
       "        <td>MA 0145</td>\n",
       "    </tr>\n",
       "    <tr>\n",
       "        <td>Calculus II</td>\n",
       "        <td>4.0</td>\n",
       "        <td>MA 0172</td>\n",
       "    </tr>\n",
       "    <tr>\n",
       "        <td>Calculus II for Chemistry, Engineering, and Physics Majors</td>\n",
       "        <td>4.0</td>\n",
       "        <td>MA 0146</td>\n",
       "    </tr>\n",
       "</table>"
      ],
      "text/plain": [
       "[('Adult Health II', 4.0, 'NS 0643'),\n",
       " ('Advanced Health Assessment', 4.0, 'NS 0604'),\n",
       " ('Advanced Nursing Roles for Systems Leadership and Improvement', 4.0, 'NS 0521'),\n",
       " ('Advanced Pathophysiology for Anesthesia Practice', 4.0, 'NS 0669'),\n",
       " ('Basic Latin', 4.0, 'LA 0111'),\n",
       " ('Biomedical Instrumentation', 4.0, 'BEN 0300'),\n",
       " ('Calculus I', 4.0, 'MA 0171'),\n",
       " ('Calculus I for Chemistry, Engineering, and Physics Majors', 4.0, 'MA 0145'),\n",
       " ('Calculus II', 4.0, 'MA 0172'),\n",
       " ('Calculus II for Chemistry, Engineering, and Physics Majors', 4.0, 'MA 0146')]"
      ]
     },
     "execution_count": 34,
     "metadata": {},
     "output_type": "execute_result"
    }
   ],
   "source": [
    "%%sql\n",
    "SELECT COURSE_MEETING_FACTS.COURSETITLE, COURSE_MEETING_FACTS.CREDITS, COURSE_MEETING_FACTS.CATALOGID\n",
    "FROM Course_Meeting_Facts\n",
    "    LEFT JOIN INSTRUCTORS_DIM ON PRIMARYINSTRUCTORID = INSTRUCTORID\n",
    "    LEFT JOIN CATALOG_COURSES_DIM USING (COURSEID)\n",
    "GROUP BY COURSE_MEETING_FACTS.COURSETITLE\n",
    "HAVING COURSE_MEETING_FACTS.CREDITS = 4\n",
    "LIMIT 10\n",
    ";"
   ]
  },
  {
   "cell_type": "markdown",
   "metadata": {},
   "source": [
    "# What Professors Teach More Than One Course?"
   ]
  },
  {
   "cell_type": "code",
   "execution_count": 45,
   "metadata": {},
   "outputs": [
    {
     "name": "stdout",
     "output_type": "stream",
     "text": [
      " * sqlite:///CourseDataWarehouse.db\n",
      "Done.\n"
     ]
    },
    {
     "data": {
      "text/html": [
       "<table>\n",
       "    <tr>\n",
       "        <th>SECTIONCOUNT</th>\n",
       "        <th>CourseTitle</th>\n",
       "        <th>CatalogID</th>\n",
       "        <th>Name</th>\n",
       "        <th>Term</th>\n",
       "    </tr>\n",
       "    <tr>\n",
       "        <td>66</td>\n",
       "        <td>Introduction to Management Accounting</td>\n",
       "        <td>AC 0012</td>\n",
       "        <td>Aaron K.  Perkus</td>\n",
       "        <td>Spring2015</td>\n",
       "    </tr>\n",
       "    <tr>\n",
       "        <td>81</td>\n",
       "        <td>Introduction to Management Accounting</td>\n",
       "        <td>AC 0012</td>\n",
       "        <td>Aaron Quinn  Weinstein</td>\n",
       "        <td>Spring2015</td>\n",
       "    </tr>\n",
       "    <tr>\n",
       "        <td>81</td>\n",
       "        <td>Introduction to Management Accounting</td>\n",
       "        <td>AC 0012</td>\n",
       "        <td>Aaron R.  Van Dyke</td>\n",
       "        <td>Spring2015</td>\n",
       "    </tr>\n",
       "    <tr>\n",
       "        <td>78</td>\n",
       "        <td>Introduction to Management Accounting</td>\n",
       "        <td>AC 0012</td>\n",
       "        <td>Abdel Illah A.  Douda</td>\n",
       "        <td>Spring2015</td>\n",
       "    </tr>\n",
       "    <tr>\n",
       "        <td>54</td>\n",
       "        <td>Introduction to Management Accounting</td>\n",
       "        <td>AC 0012</td>\n",
       "        <td>Adam E.  Rugg</td>\n",
       "        <td>Spring2015</td>\n",
       "    </tr>\n",
       "    <tr>\n",
       "        <td>13</td>\n",
       "        <td>Accounting Information Systems</td>\n",
       "        <td>AC 0265</td>\n",
       "        <td>Adrian H.  van der Kroef</td>\n",
       "        <td>Spring2015</td>\n",
       "    </tr>\n",
       "    <tr>\n",
       "        <td>54</td>\n",
       "        <td>Introduction to Management Accounting</td>\n",
       "        <td>AC 0012</td>\n",
       "        <td>Adrian S.  Rusu-Sprincenatu</td>\n",
       "        <td>Spring2015</td>\n",
       "    </tr>\n",
       "    <tr>\n",
       "        <td>66</td>\n",
       "        <td>Cost Management</td>\n",
       "        <td>AC 0320</td>\n",
       "        <td>Ahmed M.  Ebrahim</td>\n",
       "        <td>Spring2015</td>\n",
       "    </tr>\n",
       "    <tr>\n",
       "        <td>78</td>\n",
       "        <td>Intermediate Accounting II</td>\n",
       "        <td>AC 0204</td>\n",
       "        <td>Alan   Anderson</td>\n",
       "        <td>Spring2015</td>\n",
       "    </tr>\n",
       "    <tr>\n",
       "        <td>26</td>\n",
       "        <td>Intermediate Accounting I</td>\n",
       "        <td>AC 0203</td>\n",
       "        <td>Alan C.  Murchie</td>\n",
       "        <td>Spring2015</td>\n",
       "    </tr>\n",
       "</table>"
      ],
      "text/plain": [
       "[(66, 'Introduction to Management Accounting', 'AC 0012', 'Aaron K.  Perkus', 'Spring2015'),\n",
       " (81, 'Introduction to Management Accounting', 'AC 0012', 'Aaron Quinn  Weinstein', 'Spring2015'),\n",
       " (81, 'Introduction to Management Accounting', 'AC 0012', 'Aaron R.  Van Dyke', 'Spring2015'),\n",
       " (78, 'Introduction to Management Accounting', 'AC 0012', 'Abdel Illah A.  Douda', 'Spring2015'),\n",
       " (54, 'Introduction to Management Accounting', 'AC 0012', 'Adam E.  Rugg', 'Spring2015'),\n",
       " (13, 'Accounting Information Systems', 'AC 0265', 'Adrian H.  van der Kroef', 'Spring2015'),\n",
       " (54, 'Introduction to Management Accounting', 'AC 0012', 'Adrian S.  Rusu-Sprincenatu', 'Spring2015'),\n",
       " (66, 'Cost Management', 'AC 0320', 'Ahmed M.  Ebrahim', 'Spring2015'),\n",
       " (78, 'Intermediate Accounting II', 'AC 0204', 'Alan   Anderson', 'Spring2015'),\n",
       " (26, 'Intermediate Accounting I', 'AC 0203', 'Alan C.  Murchie', 'Spring2015')]"
      ]
     },
     "execution_count": 45,
     "metadata": {},
     "output_type": "execute_result"
    }
   ],
   "source": [
    "%%sql\n",
    "SELECT DISTINCT COUNT(SECTION) AS SECTIONCOUNT, COURSE_MEETING_FACTS.COURSETITLE, COURSE_MEETING_FACTS.CATALOGID, NAME, TERM\n",
    "FROM Course_Meeting_Facts\n",
    "    LEFT JOIN INSTRUCTORS_DIM ON PRIMARYINSTRUCTORID = INSTRUCTORID\n",
    "    LEFT JOIN CATALOG_COURSES_DIM USING (COURSEID)\n",
    "WHERE TERM = \"Spring2015\" AND NAME <> \"None\"\n",
    "GROUP BY NAME\n",
    "HAVING COUNT(*)>1\n",
    "LIMIT 10\n",
    ";"
   ]
  },
  {
   "cell_type": "code",
   "execution_count": null,
   "metadata": {},
   "outputs": [],
   "source": []
  }
 ],
 "metadata": {
  "kernelspec": {
   "display_name": "Python 3",
   "language": "python",
   "name": "python3"
  },
  "language_info": {
   "codemirror_mode": {
    "name": "ipython",
    "version": 3
   },
   "file_extension": ".py",
   "mimetype": "text/x-python",
   "name": "python",
   "nbconvert_exporter": "python",
   "pygments_lexer": "ipython3",
   "version": "3.6.7"
  }
 },
 "nbformat": 4,
 "nbformat_minor": 4
}
