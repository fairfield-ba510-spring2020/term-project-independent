{
 "cells": [
  {
   "cell_type": "markdown",
   "metadata": {},
   "source": [
    "# star schema "
   ]
  },
  {
   "cell_type": "code",
   "execution_count": 1,
   "metadata": {},
   "outputs": [],
   "source": [
    "%load_ext sql\n",
    "import pandas as pd\n",
    "import sqlite3"
   ]
  },
  {
   "cell_type": "code",
   "execution_count": 2,
   "metadata": {},
   "outputs": [
    {
     "data": {
      "text/plain": [
       "'Connected: @CourseDataWarehouse.db'"
      ]
     },
     "execution_count": 2,
     "metadata": {},
     "output_type": "execute_result"
    }
   ],
   "source": [
    "%sql sqlite:///CourseDataWarehouse.db"
   ]
  },
  {
   "cell_type": "markdown",
   "metadata": {},
   "source": [
    "# Creating Dimension Tables and Fact Table"
   ]
  },
  {
   "cell_type": "raw",
   "metadata": {},
   "source": [
    "SELECT the dimensions you care about, calcuations aggregate\n",
    "FROM fact_table\n",
    "    JOIN each dimension table\n",
    "WHERE somethings are true \n",
    "GROUP BY the dimensions you care about \n",
    "HAVING some aggregate things "
   ]
  },
  {
   "cell_type": "code",
   "execution_count": 3,
   "metadata": {},
   "outputs": [
    {
     "name": "stdout",
     "output_type": "stream",
     "text": [
      " * sqlite:///CourseDataWarehouse.db\n",
      "Done.\n",
      "Done.\n"
     ]
    },
    {
     "data": {
      "text/plain": [
       "[]"
      ]
     },
     "execution_count": 3,
     "metadata": {},
     "output_type": "execute_result"
    }
   ],
   "source": [
    "%%sql\n",
    "--dimension table for course catalog \n",
    "-- Course Catalogs table\n",
    "DROP TABLE IF EXISTS CATALOG_COURSES_DIM;\n",
    "CREATE TABLE CATALOG_COURSES_DIM (\n",
    "    CourseID INTEGER PRIMARY KEY,\n",
    "    CatalogYear TEXT NOT NULL,\n",
    "    CatalogID TEXT NOT NULL,\n",
    "    ProgramID INTEGER,\n",
    "    CourseTitle TEXT NOT NULL,\n",
    "    Credits TEXT NOT NULL,\n",
    "    Prereqs TEXT,\n",
    "    Coreqs TEXT,\n",
    "    Fees TEXT,\n",
    "    Attributes TEXT,\n",
    "    Description TEXT\n",
    "    \n",
    ");\n"
   ]
  },
  {
   "cell_type": "code",
   "execution_count": 4,
   "metadata": {},
   "outputs": [
    {
     "name": "stdout",
     "output_type": "stream",
     "text": [
      " * sqlite:///CourseDataWarehouse.db\n",
      "Done.\n",
      "Done.\n"
     ]
    },
    {
     "data": {
      "text/plain": [
       "[]"
      ]
     },
     "execution_count": 4,
     "metadata": {},
     "output_type": "execute_result"
    }
   ],
   "source": [
    "%%sql\n",
    "-- dimension table for program \n",
    "-- Programs table as Dimension_Table\n",
    "DROP TABLE IF EXISTS PROGRAMS_DIM;\n",
    "CREATE TABLE PROGRAMS_DIM (\n",
    "    ProgramID INTEGER PRIMARY KEY,\n",
    "    ProgramCode TEXT NOT NULL,\n",
    "    ProgramName TEXT NOT NULL\n",
    ");"
   ]
  },
  {
   "cell_type": "code",
   "execution_count": 5,
   "metadata": {},
   "outputs": [
    {
     "name": "stdout",
     "output_type": "stream",
     "text": [
      " * sqlite:///CourseDataWarehouse.db\n",
      "Done.\n",
      "Done.\n"
     ]
    },
    {
     "data": {
      "text/plain": [
       "[]"
      ]
     },
     "execution_count": 5,
     "metadata": {},
     "output_type": "execute_result"
    }
   ],
   "source": [
    "%%sql\n",
    "--dimension table for location\n",
    "\n",
    "-- Locations table\n",
    "DROP TABLE IF EXISTS LOCATIONS_DIM;\n",
    "CREATE TABLE LOCATIONS_DIM (\n",
    "    LocationID INTEGER PRIMARY KEY,\n",
    "    LocationCode TEXT NOT NULL\n",
    ");"
   ]
  },
  {
   "cell_type": "code",
   "execution_count": 6,
   "metadata": {},
   "outputs": [
    {
     "name": "stdout",
     "output_type": "stream",
     "text": [
      " * sqlite:///CourseDataWarehouse.db\n",
      "Done.\n",
      "Done.\n"
     ]
    },
    {
     "data": {
      "text/plain": [
       "[]"
      ]
     },
     "execution_count": 6,
     "metadata": {},
     "output_type": "execute_result"
    }
   ],
   "source": [
    "%%sql\n",
    "--dimension table for instructor\n",
    "-- Instructors table\n",
    "DROP TABLE IF EXISTS INSTRUCTORS_DIM;\n",
    "CREATE TABLE INSTRUCTORS_DIM (\n",
    "    InstructorID INTEGER PRIMARY KEY,\n",
    "    Name TEXT NOT NULL\n",
    ");\n"
   ]
  },
  {
   "cell_type": "code",
   "execution_count": 7,
   "metadata": {},
   "outputs": [
    {
     "name": "stdout",
     "output_type": "stream",
     "text": [
      " * sqlite:///CourseDataWarehouse.db\n",
      "Done.\n",
      "Done.\n"
     ]
    },
    {
     "data": {
      "text/plain": [
       "[]"
      ]
     },
     "execution_count": 7,
     "metadata": {},
     "output_type": "execute_result"
    }
   ],
   "source": [
    "%%sql \n",
    "-- Fact Table \n",
    "DROP TABLE IF EXISTS COURSE_MEETING_FACTS;\n",
    "CREATE TABLE COURSE_MEETING_FACTS(\n",
    "    CourseMeetingID INTEGER PRIMARY KEY,\n",
    "    CourseOfferingID INTEGER NOT NULL,\n",
    "    LocationID INTEGER NOT NULL,\n",
    "    StartDateTime TEXT NOT NULL,\n",
    "    EndDateTime TEXT NOT NULL,\n",
    "    CatalogID TEXT NOT NULL,\n",
    "    CourseID INTEGER NOT NULL,\n",
    "    ProgramID INTEGER NOT NULL,\n",
    "    CourseTitle TEXT NOT NULL,\n",
    "    CatalogYear TEXT NOT NULL,\n",
    "    PrimaryInstructorID INTEGER NOT NULL,\n",
    "    Term TEXT NOT NULL,\n",
    "    CRN INTEGER NOT NULL,\n",
    "    Section TEXT NOT NULL,\n",
    "    Credits REAL,\n",
    "    Title TEXT NOT NULL,\n",
    "    Timecodes TEXT\n",
    ");\n",
    "\n",
    "    "
   ]
  },
  {
   "cell_type": "code",
   "execution_count": null,
   "metadata": {},
   "outputs": [],
   "source": []
  },
  {
   "cell_type": "markdown",
   "metadata": {},
   "source": [
    "- roll up queries \n"
   ]
  },
  {
   "cell_type": "markdown",
   "metadata": {},
   "source": [
    "# Loading Data"
   ]
  },
  {
   "cell_type": "code",
   "execution_count": 8,
   "metadata": {},
   "outputs": [
    {
     "name": "stdout",
     "output_type": "stream",
     "text": [
      " * sqlite:///CourseDataWarehouse.db\n",
      "(sqlite3.OperationalError) database is locked\n",
      "[SQL: ATTACH DATABASE 'CourseData.db' as Course_Info;]\n",
      "(Background on this error at: http://sqlalche.me/e/e3q8)\n"
     ]
    }
   ],
   "source": [
    "%%sql\n",
    "ATTACH DATABASE 'CourseData.db' as Course_Info;\n"
   ]
  },
  {
   "cell_type": "code",
   "execution_count": null,
   "metadata": {},
   "outputs": [],
   "source": []
  },
  {
   "cell_type": "code",
   "execution_count": 9,
   "metadata": {},
   "outputs": [
    {
     "name": "stdout",
     "output_type": "stream",
     "text": [
      " * sqlite:///CourseDataWarehouse.db\n",
      "(sqlite3.OperationalError) no such table: Course_Info.PROGRAMS\n",
      "[SQL: SELECT * \n",
      "FROM Course_Info.PROGRAMS;]\n",
      "(Background on this error at: http://sqlalche.me/e/e3q8)\n"
     ]
    }
   ],
   "source": [
    "%%sql\n",
    "SELECT * \n",
    "FROM Course_Info.PROGRAMS;\n"
   ]
  },
  {
   "cell_type": "code",
   "execution_count": 10,
   "metadata": {},
   "outputs": [
    {
     "name": "stdout",
     "output_type": "stream",
     "text": [
      " * sqlite:///CourseDataWarehouse.db\n",
      "Done.\n",
      "(sqlite3.OperationalError) unknown database Course_Info\n",
      "[SQL: PRAGMA Course_Info.PROGRAMS;]\n",
      "(Background on this error at: http://sqlalche.me/e/e3q8)\n"
     ]
    }
   ],
   "source": [
    "%%sql\n",
    "SELECT * FROM PROGRAMS;\n",
    "PRAGMA Course_Info.PROGRAMS;"
   ]
  },
  {
   "cell_type": "code",
   "execution_count": 11,
   "metadata": {},
   "outputs": [
    {
     "name": "stdout",
     "output_type": "stream",
     "text": [
      " * sqlite:///CourseDataWarehouse.db\n",
      "(sqlite3.OperationalError) no such table: Course_Info.Programs\n",
      "[SQL: SELECT * \n",
      "FROM Course_Info.Programs;]\n",
      "(Background on this error at: http://sqlalche.me/e/e3q8)\n"
     ]
    }
   ],
   "source": [
    "%%sql\n",
    "SELECT * \n",
    "FROM Course_Info.Programs;"
   ]
  },
  {
   "cell_type": "code",
   "execution_count": 12,
   "metadata": {},
   "outputs": [
    {
     "name": "stdout",
     "output_type": "stream",
     "text": [
      " * sqlite:///CourseDataWarehouse.db\n",
      "(sqlite3.OperationalError) no such table: Course_Info.INSTRUCTORS\n",
      "[SQL: SELECT DISTINCT CATALOGID, TERM, CRN, TITLE\n",
      "FROM Course_Info.INSTRUCTORS\n",
      "    JOIN Course_Info.COURSE_OFFERINGS ON (Course_Info.INSTRUCTORS.INSTRUCTORID=Course_Info.COURSE_OFFERINGS.PRIMARYINSTRUCTORID)\n",
      "LIMIT 5;]\n",
      "(Background on this error at: http://sqlalche.me/e/e3q8)\n"
     ]
    }
   ],
   "source": [
    "%%sql\n",
    "SELECT DISTINCT CATALOGID, TERM, CRN, TITLE\n",
    "FROM Course_Info.INSTRUCTORS\n",
    "    JOIN Course_Info.COURSE_OFFERINGS ON (Course_Info.INSTRUCTORS.INSTRUCTORID=Course_Info.COURSE_OFFERINGS.PRIMARYINSTRUCTORID)\n",
    "LIMIT 5;"
   ]
  },
  {
   "cell_type": "code",
   "execution_count": 13,
   "metadata": {},
   "outputs": [
    {
     "name": "stdout",
     "output_type": "stream",
     "text": [
      " * sqlite:///CourseDataWarehouse.db\n",
      "(sqlite3.OperationalError) no such table: Course_Info.LOCATIONS\n",
      "[SQL: SELECT *\n",
      "FROM Course_Info.LOCATIONS\n",
      "LIMIT 5;]\n",
      "(Background on this error at: http://sqlalche.me/e/e3q8)\n"
     ]
    }
   ],
   "source": [
    "%%sql\n",
    "SELECT *\n",
    "FROM Course_Info.LOCATIONS\n",
    "LIMIT 5;"
   ]
  },
  {
   "cell_type": "code",
   "execution_count": 14,
   "metadata": {},
   "outputs": [
    {
     "name": "stdout",
     "output_type": "stream",
     "text": [
      " * sqlite:///CourseDataWarehouse.db\n",
      "(sqlite3.OperationalError) no such table: Course_Info.COURSE_OFFERINGS\n",
      "[SQL: SELECT PRIMARYINSTRUCTORID, COUNT(DISTINCT COURSEID) as COURSECOUNT\n",
      "FROM Course_Info.COURSE_OFFERINGS\n",
      "GROUP BY PRIMARYINSTRUCTORID\n",
      "HAVING COUNT(*) = 1\n",
      "LIMIT 5;]\n",
      "(Background on this error at: http://sqlalche.me/e/e3q8)\n"
     ]
    }
   ],
   "source": [
    "%%sql\n",
    "SELECT PRIMARYINSTRUCTORID, COUNT(DISTINCT COURSEID) as COURSECOUNT\n",
    "FROM Course_Info.COURSE_OFFERINGS\n",
    "GROUP BY PRIMARYINSTRUCTORID\n",
    "HAVING COUNT(*) = 1\n",
    "LIMIT 5;\n"
   ]
  },
  {
   "cell_type": "code",
   "execution_count": 15,
   "metadata": {},
   "outputs": [
    {
     "name": "stdout",
     "output_type": "stream",
     "text": [
      " * sqlite:///CourseDataWarehouse.db\n",
      "(sqlite3.OperationalError) no such table: Course_Info.Course_Offerings\n",
      "[SQL: --how many people enrolled in ba0500\n",
      "SELECT DISTINCT CATALOGID, TERM, ACTUAL, TITLE, COUNT(DISTINCT COURSEID) as COURSECOUNT\n",
      "FROM Course_Info.Course_Offerings \n",
      "WHERE CATALOGID = 'BA 0500']\n",
      "(Background on this error at: http://sqlalche.me/e/e3q8)\n"
     ]
    }
   ],
   "source": [
    "%%sql\n",
    "--how many people enrolled in ba0500\n",
    "SELECT DISTINCT CATALOGID, TERM, ACTUAL, TITLE, COUNT(DISTINCT COURSEID) as COURSECOUNT\n",
    "FROM Course_Info.Course_Offerings \n",
    "WHERE CATALOGID = 'BA 0500'\n"
   ]
  },
  {
   "cell_type": "code",
   "execution_count": 16,
   "metadata": {},
   "outputs": [
    {
     "name": "stdout",
     "output_type": "stream",
     "text": [
      " * sqlite:///CourseDataWarehouse.db\n",
      "(sqlite3.OperationalError) no such table: Course_Info.Course_Offerings\n",
      "[SQL: --which professors teach ethics \n",
      "SELECT CATALOGID, CRN, SECTION, TITLE, PRIMARYINSTRUCTORID\n",
      "FROM Course_Info.Course_Offerings\n",
      "    JOIN INSTRUCTORS_DIM ON (INSTRUCTORS_DIM.Name = Course_Info.COURSE_OFFERINGS.PrimaryInstructorID)\n",
      "WHERE CATALOGID = 'BU 0391';]\n",
      "(Background on this error at: http://sqlalche.me/e/e3q8)\n"
     ]
    }
   ],
   "source": [
    "%%sql\n",
    "--which professors teach ethics \n",
    "SELECT CATALOGID, CRN, SECTION, TITLE, PRIMARYINSTRUCTORID\n",
    "FROM Course_Info.Course_Offerings\n",
    "    JOIN INSTRUCTORS_DIM ON (INSTRUCTORS_DIM.Name = Course_Info.COURSE_OFFERINGS.PrimaryInstructorID)\n",
    "WHERE CATALOGID = 'BU 0391';"
   ]
  },
  {
   "cell_type": "code",
   "execution_count": null,
   "metadata": {},
   "outputs": [],
   "source": []
  }
 ],
 "metadata": {
  "kernelspec": {
   "display_name": "Python 3",
   "language": "python",
   "name": "python3"
  },
  "language_info": {
   "codemirror_mode": {
    "name": "ipython",
    "version": 3
   },
   "file_extension": ".py",
   "mimetype": "text/x-python",
   "name": "python",
   "nbconvert_exporter": "python",
   "pygments_lexer": "ipython3",
   "version": "3.6.7"
  }
 },
 "nbformat": 4,
 "nbformat_minor": 4
}
